{
  "cells": [
    {
      "cell_type": "markdown",
      "metadata": {
        "id": "-avSLg6YplY3"
      },
      "source": [
        "## Data Preprocessing"
      ]
    },
    {
      "cell_type": "markdown",
      "metadata": {
        "id": "VwMcO_t7plY4"
      },
      "source": [
        "tokenization"
      ]
    },
    {
      "cell_type": "code",
      "execution_count": null,
      "metadata": {
        "id": "F5rMXPhhplY4",
        "outputId": "fbfa1efb-9347-4cf3-b349-72c7fd94e119"
      },
      "outputs": [
        {
          "name": "stdout",
          "output_type": "stream",
          "text": [
            "Word Tokens: ['Natural', 'language', 'processing', 'is', 'fascinating', '.', 'It', 'enables', 'computers', 'to', 'understand', 'human', 'language', '.']\n",
            "Sentence Tokens: ['Natural language processing is fascinating.', 'It enables computers to understand human language.']\n"
          ]
        }
      ],
      "source": [
        "from nltk.tokenize import word_tokenize, sent_tokenize\n",
        "\n",
        "text = \"Natural language processing is fascinating. It enables computers to understand human language.\"\n",
        "word_tokens = word_tokenize(text)\n",
        "sentence_tokens = sent_tokenize(text)\n",
        "\n",
        "print(\"Word Tokens:\", word_tokens)\n",
        "print(\"Sentence Tokens:\", sentence_tokens)"
      ]
    },
    {
      "cell_type": "code",
      "execution_count": null,
      "metadata": {
        "id": "nOblvDt1plY5",
        "outputId": "510d4416-f2e5-41bd-fdc6-f08c90a7e652"
      },
      "outputs": [
        {
          "data": {
            "text/plain": [
              "'natural language processing is fascinating`. it enables computers @ to understand $ human language.'"
            ]
          },
          "execution_count": 36,
          "metadata": {},
          "output_type": "execute_result"
        }
      ],
      "source": [
        "text = \"Natural language processing is fascinating`. It enables computers @ to understand $ human language.\"\n",
        "text_lowercase = text.lower()\n",
        "text_lowercase"
      ]
    },
    {
      "cell_type": "markdown",
      "metadata": {
        "id": "NgSTFrBiplY5"
      },
      "source": [
        "punctuation and removing characters"
      ]
    },
    {
      "cell_type": "code",
      "execution_count": 1,
      "metadata": {
        "id": "fi13YRvnplY5",
        "outputId": "b223870b-babc-4721-8aa7-a87c97ba6e25",
        "colab": {
          "base_uri": "https://localhost:8080/",
          "height": 53
        }
      },
      "outputs": [
        {
          "output_type": "stream",
          "name": "stdout",
          "text": [
            "!\"#$%&'()*+,-./:;<=>?@[\\]^_`{|}~\n"
          ]
        },
        {
          "output_type": "execute_result",
          "data": {
            "text/plain": [
              "'natural language processing is fascinating it enables computers  to understand  human language'"
            ],
            "application/vnd.google.colaboratory.intrinsic+json": {
              "type": "string"
            }
          },
          "metadata": {},
          "execution_count": 1
        }
      ],
      "source": [
        "import pandas as pd\n",
        "import string\n",
        "print(string.punctuation)\n",
        "clean_text = ''.join(char for char in text_lowercase if char not in string.punctuation)\n",
        "clean_text"
      ]
    },
    {
      "cell_type": "code",
      "execution_count": null,
      "metadata": {
        "id": "LDxI7ZVoplY5",
        "outputId": "48883f32-2da7-46df-effb-cf8fa53095fc"
      },
      "outputs": [
        {
          "data": {
            "text/plain": [
              "'natural language processing is fascinating it enables computers to understand human language'"
            ]
          },
          "execution_count": 38,
          "metadata": {},
          "output_type": "execute_result"
        }
      ],
      "source": [
        "import re\n",
        "clean_text = re.sub('[^a-zA-Z0-9]', ' ', clean_text)\n",
        "clean_text = re.sub(r'\\s+', ' ', clean_text)\n",
        "clean_text"
      ]
    },
    {
      "cell_type": "markdown",
      "metadata": {
        "id": "iFqnNGSjplY6"
      },
      "source": [
        "removing stopwords"
      ]
    },
    {
      "cell_type": "code",
      "execution_count": null,
      "metadata": {
        "id": "q6Zkn4HPplY6",
        "outputId": "7e8d4cad-bbd3-4ab3-b87a-2619dd90453b"
      },
      "outputs": [
        {
          "name": "stdout",
          "output_type": "stream",
          "text": [
            "['natural', 'language', 'processing', 'fascinating', 'enables', 'computers', 'understand', 'human', 'language']\n"
          ]
        }
      ],
      "source": [
        "import nltk\n",
        "from nltk.corpus import stopwords\n",
        "from nltk.tokenize import word_tokenize\n",
        "\n",
        "# nltk.download('punkt')\n",
        "# nltk.download('stopwords') # download stopwords\n",
        "\n",
        "\n",
        "words = word_tokenize(clean_text) #tokenize\n",
        "stop_words = set(stopwords.words('english')) #load 'stopwords' in English lang\n",
        "filteredwords = [word for word in words if word.lower() not in stop_words]\n",
        "\n",
        "print(filteredwords)"
      ]
    },
    {
      "cell_type": "markdown",
      "metadata": {
        "id": "k_zDbyirplY6"
      },
      "source": [
        "stemming"
      ]
    },
    {
      "cell_type": "code",
      "execution_count": null,
      "metadata": {
        "id": "ATb08ylSplY6",
        "outputId": "712206fb-1060-4c23-a57b-ae961a6da63a"
      },
      "outputs": [
        {
          "data": {
            "text/plain": [
              "'fight'"
            ]
          },
          "execution_count": 11,
          "metadata": {},
          "output_type": "execute_result"
        }
      ],
      "source": [
        "from nltk.stem import PorterStemmer, SnowballStemmer\n",
        "porter = PorterStemmer()\n",
        "porter.stem('fighting')"
      ]
    },
    {
      "cell_type": "markdown",
      "metadata": {
        "id": "sHBT23xeplY6"
      },
      "source": [
        "lemmatization"
      ]
    },
    {
      "cell_type": "code",
      "execution_count": null,
      "metadata": {
        "id": "XL-tM9HeplY6",
        "outputId": "13bab889-18d1-4cd4-ccb5-02ebac21c94b"
      },
      "outputs": [
        {
          "data": {
            "text/plain": [
              "'fighting'"
            ]
          },
          "execution_count": 12,
          "metadata": {},
          "output_type": "execute_result"
        }
      ],
      "source": [
        "# nltk.download('wordnet')\n",
        "from nltk.stem import WordNetLemmatizer\n",
        "lem = WordNetLemmatizer()\n",
        "lem.lemmatize('fighting')"
      ]
    },
    {
      "cell_type": "code",
      "execution_count": null,
      "metadata": {
        "id": "MEsfxxjvplY6",
        "outputId": "b7fc4e3c-2515-4e1a-bf84-496f72d69671"
      },
      "outputs": [
        {
          "data": {
            "text/plain": [
              "'strip'"
            ]
          },
          "execution_count": 16,
          "metadata": {},
          "output_type": "execute_result"
        }
      ],
      "source": [
        "lem.lemmatize('stripes', 'v')"
      ]
    },
    {
      "cell_type": "code",
      "execution_count": null,
      "metadata": {
        "id": "bUD2pEzGplY6",
        "outputId": "f9247a8b-cc73-44f8-ac54-c75e8fd31f04"
      },
      "outputs": [
        {
          "data": {
            "text/plain": [
              "'stripe'"
            ]
          },
          "execution_count": 17,
          "metadata": {},
          "output_type": "execute_result"
        }
      ],
      "source": [
        "lem.lemmatize('stripes', 'n')"
      ]
    },
    {
      "cell_type": "code",
      "execution_count": null,
      "metadata": {
        "id": "f5LTMz2VplY6",
        "outputId": "d8d0220a-c61a-4a4a-a1f5-f76b59013e9c"
      },
      "outputs": [
        {
          "name": "stdout",
          "output_type": "stream",
          "text": [
            "text after lemmatization:- Natural language processing is fascinating . It enables computer to understand human language .\n",
            "text after stemming:- natur languag process is fascin . it enabl comput to understand human languag .\n"
          ]
        }
      ],
      "source": [
        "## comparison between stemming and lemmatization\n",
        "lem_text = \" \".join(lem.lemmatize(word) for word in word_tokens)\n",
        "stem_text = \" \".join(porter.stem(word) for word in word_tokens)\n",
        "print(f\"text after lemmatization:- {lem_text}\")\n",
        "print(f\"text after stemming:- {stem_text}\")\n"
      ]
    },
    {
      "cell_type": "markdown",
      "metadata": {
        "id": "WgcTLFZxplY6"
      },
      "source": [
        "Spellchecker"
      ]
    },
    {
      "cell_type": "code",
      "execution_count": null,
      "metadata": {
        "id": "erDYtDHzplY6",
        "outputId": "3553d4df-a6b7-481e-a49c-fc523730bfeb"
      },
      "outputs": [
        {
          "name": "stdout",
          "output_type": "stream",
          "text": [
            "List of corrected words: ['I', 'have', 'been', 'trying', 'to', 'wok', 'with', 'the', 'model']\n",
            "Original Text: I hav been rying to wok wih thi modelu\n",
            "Corrected Text: I have been trying to wok with the model\n"
          ]
        }
      ],
      "source": [
        "# ! pip install pyspellchecker\n",
        "from spellchecker import SpellChecker\n",
        "\n",
        "sc = SpellChecker()\n",
        "misspelledText = \"I hav been rying to wok wih thi modelu\" #I have been trying to work with this module\n",
        "\n",
        "words = misspelledText.split()\n",
        "\n",
        "correctedList = [sc.correction(word) for word in words]\n",
        "\n",
        "correctedText = ' '.join(correctedList)\n",
        "\n",
        "print(\"List of corrected words:\",correctedList)\n",
        "print(\"Original Text:\", misspelledText)\n",
        "print(\"Corrected Text:\", correctedText)"
      ]
    },
    {
      "cell_type": "markdown",
      "metadata": {
        "id": "DtkbTUWEplY7"
      },
      "source": [
        "Complete preprocessing pipleine using nltk"
      ]
    },
    {
      "cell_type": "code",
      "execution_count": null,
      "metadata": {
        "id": "ml3FtQrdplY7",
        "outputId": "60e39760-a0e1-4c25-a48c-23660cee4846"
      },
      "outputs": [
        {
          "name": "stdout",
          "output_type": "stream",
          "text": [
            "Stemmed Words: ['barack', 'obama', '44th', 'presid', 'unit', 'state', 'gave', 'speech', 'berlin', 'juli', '4', '2009', 'brandenburg', 'gate', 'spoke', 'relationship', 'unit', 'state', 'europ', 'emphas', 'import', 'intern', 'cooper', 'event', 'cover', 'major', 'news', 'outlet', 'includ', 'bbc', 'cnn', 'new', 'york', 'time']\n",
            "Lemmatized Words: ['barack', 'obama', '44th', 'president', 'united', 'state', 'gave', 'speech', 'berlin', 'july', '4', '2009', 'brandenburg', 'gate', 'spoke', 'relationship', 'united', 'state', 'europe', 'emphasizing', 'importance', 'international', 'cooperation', 'event', 'covered', 'major', 'news', 'outlet', 'including', 'bbc', 'cnn', 'new', 'york', 'time']\n"
          ]
        }
      ],
      "source": [
        "import re\n",
        "import string\n",
        "from nltk.tokenize import word_tokenize\n",
        "from nltk.corpus import stopwords\n",
        "from nltk.stem import PorterStemmer, WordNetLemmatizer\n",
        "import nltk\n",
        "\n",
        "# nltk.download('punkt')\n",
        "# nltk.download('stopwords')\n",
        "# nltk.download('wordnet')\n",
        "\n",
        "sample_text = \"Barack Obama, the 44th President of the United States, gave a speech in Berlin on July 4, 2009, at the Brandenburg Gate. He spoke about the relationship between the United States and Europe, emphasizing the importance of international cooperation. The event was covered by major news outlets, including BBC, CNN, and The New York Times!\"\n",
        "\n",
        "\n",
        "# Convert to lowercase\n",
        "sample_text = sample_text.lower()\n",
        "\n",
        "# Remove punctuation\n",
        "sample_text = re.sub(f\"[{string.punctuation}]\", \"\", sample_text)\n",
        "\n",
        "# Tokenize words\n",
        "tokens = word_tokenize(sample_text)\n",
        "\n",
        "# Remove stopwords\n",
        "stop_words = set(stopwords.words('english'))\n",
        "filtered_tokens = [word for word in tokens if word not in stop_words]\n",
        "\n",
        "# Stemming & Lemmatization\n",
        "stemmer = PorterStemmer()\n",
        "lemmatizer = WordNetLemmatizer()\n",
        "\n",
        "stemmed_words = [stemmer.stem(word) for word in filtered_tokens]\n",
        "lemmatized_words = [lemmatizer.lemmatize(word) for word in filtered_tokens]\n",
        "\n",
        "print(\"Stemmed Words:\", stemmed_words)\n",
        "print(\"Lemmatized Words:\", lemmatized_words)"
      ]
    },
    {
      "cell_type": "markdown",
      "metadata": {
        "id": "bIyumJ5QplY7"
      },
      "source": [
        "# feature extraction"
      ]
    },
    {
      "cell_type": "markdown",
      "metadata": {
        "id": "rJk4gW5DplY7"
      },
      "source": [
        "POS tagging"
      ]
    },
    {
      "cell_type": "code",
      "execution_count": null,
      "metadata": {
        "id": "lIY-UsmsplY7",
        "outputId": "078e3ae0-302d-4303-80c3-c99bac2599dd"
      },
      "outputs": [
        {
          "data": {
            "text/plain": [
              "[('barack', 'NN'),\n",
              " ('obama', 'VBZ'),\n",
              " ('44th', 'CD'),\n",
              " ('president', 'NN'),\n",
              " ('united', 'JJ'),\n",
              " ('state', 'NN'),\n",
              " ('gave', 'VBD'),\n",
              " ('speech', 'NN'),\n",
              " ('berlin', 'NN'),\n",
              " ('july', 'RB'),\n",
              " ('4', 'CD'),\n",
              " ('2009', 'CD'),\n",
              " ('brandenburg', 'NN'),\n",
              " ('gate', 'NN'),\n",
              " ('spoke', 'VBD'),\n",
              " ('relationship', 'NN'),\n",
              " ('united', 'JJ'),\n",
              " ('state', 'NN'),\n",
              " ('europe', 'NN'),\n",
              " ('emphasizing', 'VBG'),\n",
              " ('importance', 'NN'),\n",
              " ('international', 'JJ'),\n",
              " ('cooperation', 'NN'),\n",
              " ('event', 'NN'),\n",
              " ('covered', 'VBD'),\n",
              " ('major', 'JJ'),\n",
              " ('news', 'NN'),\n",
              " ('outlet', 'NN'),\n",
              " ('including', 'VBG'),\n",
              " ('bbc', 'NNS'),\n",
              " ('cnn', 'JJ'),\n",
              " ('new', 'JJ'),\n",
              " ('york', 'NN'),\n",
              " ('time', 'NN')]"
            ]
          },
          "execution_count": 21,
          "metadata": {},
          "output_type": "execute_result"
        }
      ],
      "source": [
        "#pre-requisite\n",
        "#nltk.download('averaged_perceptron_tagger')\n",
        "\n",
        "import nltk\n",
        "from nltk import pos_tag\n",
        "pos_tag(lemmatized_words)\n",
        "# pos_tag(['countries'])"
      ]
    },
    {
      "cell_type": "markdown",
      "metadata": {
        "id": "J-gPeEP1plY7"
      },
      "source": [
        "named entity recognition"
      ]
    },
    {
      "cell_type": "code",
      "execution_count": null,
      "metadata": {
        "id": "TqEZ_IBfplY7",
        "outputId": "9ca202b8-6c29-40fa-8776-66843a4c0528"
      },
      "outputs": [
        {
          "name": "stdout",
          "output_type": "stream",
          "text": [
            "44th ORDINAL\n",
            "the united states GPE\n",
            "berlin GPE\n",
            "july 4 2009 DATE\n",
            "the brandenburg gate FAC\n",
            "the united states GPE\n",
            "europe LOC\n",
            "bbc cnn ORG\n",
            "the new york times ORG\n"
          ]
        }
      ],
      "source": [
        "#pre-requisites\n",
        "# ! pip install spacy\n",
        "#run the following script on terminal to download English lang model from spacy\n",
        "#python -m spacy download en_core_web_sm\n",
        "\n",
        "\n",
        "import spacy\n",
        "# Load pre-trained English language model 'en_core_web_sm' from spaCy\n",
        "nlp = spacy.load('en_core_web_sm')\n",
        "\n",
        "extract_ner = nlp(sample_text)\n",
        "for ent in extract_ner.ents:\n",
        "    print(ent.text, ent.label_)"
      ]
    },
    {
      "cell_type": "markdown",
      "metadata": {
        "id": "9uxB8afcplY7"
      },
      "source": [
        "bag of words sklearn"
      ]
    },
    {
      "cell_type": "code",
      "execution_count": null,
      "metadata": {
        "id": "jilM3oYxplY7",
        "outputId": "8e2661ac-e0f8-471d-a72b-a40d4aeb432b"
      },
      "outputs": [
        {
          "name": "stdout",
          "output_type": "stream",
          "text": [
            "Vocabulary: ['2009' '44th' 'about' 'and' 'at' 'barack' 'bbc' 'berlin' 'between'\n",
            " 'brandenburg' 'by' 'cnn' 'cooperation' 'covered' 'emphasizing' 'europe'\n",
            " 'event' 'gate' 'gave' 'he' 'importance' 'in' 'including' 'international'\n",
            " 'july' 'major' 'new' 'news' 'obama' 'of' 'on' 'outlets' 'president'\n",
            " 'relationship' 'speech' 'spoke' 'states' 'the' 'times' 'united' 'was'\n",
            " 'york']\n",
            "Bag of Words Model:\n",
            "[[1 1 1 2 1 1 1 1 1 1 1 1 1 1 1 1 1 1 1 1 1 1 1 1 1 1 1 1 1 2 1 1 1 1 1 1\n",
            "  2 8 1 2 1 1]]\n"
          ]
        }
      ],
      "source": [
        "from sklearn.feature_extraction.text import CountVectorizer\n",
        "\n",
        "# bag of words implementation expects an input as a list insead of string. So we'll use our example text in list form\n",
        "# textForBow = [\"Natural language processing (NLP) is a field of artificial intelligence that focuses on the interaction between computers and humans through natural language. The goal is to enable computers to understand, interpret, and generate human language in a way that is both meaningful and useful. Applications of NLP include machine translation, sentiment analysis, and chatbots.\"]\n",
        "textForBow = [sample_text]\n",
        "vectorizer = CountVectorizer()\n",
        "textVectors = vectorizer.fit_transform(textForBow)\n",
        "bagOfWords = textVectors.toarray() # array- bag of words\n",
        "\n",
        "\n",
        "vocab= vectorizer.get_feature_names_out() ## fetch the vocabulary\n",
        "\n",
        "print(\"Vocabulary:\", vocab)\n",
        "print(\"Bag of Words Model:\")\n",
        "print(bagOfWords)"
      ]
    },
    {
      "cell_type": "markdown",
      "metadata": {
        "id": "dKB59kCWplY7"
      },
      "source": [
        "# Word Embeddings using gensim"
      ]
    },
    {
      "cell_type": "code",
      "execution_count": null,
      "metadata": {
        "id": "umyltuNYplY7",
        "outputId": "0fa95733-3c45-4a60-cf84-8a5528105c95"
      },
      "outputs": [
        {
          "name": "stdout",
          "output_type": "stream",
          "text": [
            "Cosine similarity between 'Obama' and 'United': 0.1680458039045334\n"
          ]
        }
      ],
      "source": [
        "import gensim.downloader as api\n",
        "import numpy as np\n",
        "from gensim.test.utils import common_texts\n",
        "from gensim.models import Word2Vec\n",
        "\n",
        "# Load the pre-trained Word2Vec model\n",
        "model = api.load(\"word2vec-google-news-300\")\n",
        "\n",
        "# Function to get word embedding\n",
        "def getWordEmbeddings(word, model):\n",
        "    try:\n",
        "        return model[word]\n",
        "    except KeyError:\n",
        "        return None\n",
        "\n",
        "\n",
        "# calculate cosine similarity between words\n",
        "from numpy.linalg import norm\n",
        "\n",
        "def cosine_similarity(vec1, vec2):\n",
        "    return np.dot(vec1, vec2) / (norm(vec1) * norm(vec2))\n",
        "\n",
        "word1 = \"Obama\"\n",
        "word2 = \"United\"\n",
        "\n",
        "embedding1 = getWordEmbeddings(word1, model)\n",
        "embedding2 = getWordEmbeddings(word2, model)\n",
        "\n",
        "if embedding1 is not None and embedding2 is not None:\n",
        "    similarity = cosine_similarity(embedding1, embedding2)\n",
        "    print(f\"Cosine similarity between '{word1}' and '{word2}': {similarity}\")\n",
        "else:\n",
        "    print(\"Word(s) not found in pre-trained model.\")\n"
      ]
    },
    {
      "cell_type": "markdown",
      "metadata": {
        "id": "eBlLuRC3Sd5x"
      },
      "source": [
        "# Next Word Prediction - Using a Small Text Corpus"
      ]
    },
    {
      "cell_type": "code",
      "execution_count": null,
      "metadata": {
        "colab": {
          "base_uri": "https://localhost:8080/"
        },
        "collapsed": true,
        "id": "Lk-BKRRUSirN",
        "outputId": "8b5ea071-796d-4881-effb-ee4f3a4993f2"
      },
      "outputs": [
        {
          "name": "stdout",
          "output_type": "stream",
          "text": [
            "Requirement already satisfied: tensorflow in /usr/local/lib/python3.11/dist-packages (2.18.0)\n",
            "Requirement already satisfied: numpy in /usr/local/lib/python3.11/dist-packages (1.26.4)\n",
            "Requirement already satisfied: absl-py>=1.0.0 in /usr/local/lib/python3.11/dist-packages (from tensorflow) (1.4.0)\n",
            "Requirement already satisfied: astunparse>=1.6.0 in /usr/local/lib/python3.11/dist-packages (from tensorflow) (1.6.3)\n",
            "Requirement already satisfied: flatbuffers>=24.3.25 in /usr/local/lib/python3.11/dist-packages (from tensorflow) (25.2.10)\n",
            "Requirement already satisfied: gast!=0.5.0,!=0.5.1,!=0.5.2,>=0.2.1 in /usr/local/lib/python3.11/dist-packages (from tensorflow) (0.6.0)\n",
            "Requirement already satisfied: google-pasta>=0.1.1 in /usr/local/lib/python3.11/dist-packages (from tensorflow) (0.2.0)\n",
            "Requirement already satisfied: libclang>=13.0.0 in /usr/local/lib/python3.11/dist-packages (from tensorflow) (18.1.1)\n",
            "Requirement already satisfied: opt-einsum>=2.3.2 in /usr/local/lib/python3.11/dist-packages (from tensorflow) (3.4.0)\n",
            "Requirement already satisfied: packaging in /usr/local/lib/python3.11/dist-packages (from tensorflow) (24.2)\n",
            "Requirement already satisfied: protobuf!=4.21.0,!=4.21.1,!=4.21.2,!=4.21.3,!=4.21.4,!=4.21.5,<6.0.0dev,>=3.20.3 in /usr/local/lib/python3.11/dist-packages (from tensorflow) (4.25.6)\n",
            "Requirement already satisfied: requests<3,>=2.21.0 in /usr/local/lib/python3.11/dist-packages (from tensorflow) (2.32.3)\n",
            "Requirement already satisfied: setuptools in /usr/local/lib/python3.11/dist-packages (from tensorflow) (75.1.0)\n",
            "Requirement already satisfied: six>=1.12.0 in /usr/local/lib/python3.11/dist-packages (from tensorflow) (1.17.0)\n",
            "Requirement already satisfied: termcolor>=1.1.0 in /usr/local/lib/python3.11/dist-packages (from tensorflow) (2.5.0)\n",
            "Requirement already satisfied: typing-extensions>=3.6.6 in /usr/local/lib/python3.11/dist-packages (from tensorflow) (4.12.2)\n",
            "Requirement already satisfied: wrapt>=1.11.0 in /usr/local/lib/python3.11/dist-packages (from tensorflow) (1.17.2)\n",
            "Requirement already satisfied: grpcio<2.0,>=1.24.3 in /usr/local/lib/python3.11/dist-packages (from tensorflow) (1.70.0)\n",
            "Requirement already satisfied: tensorboard<2.19,>=2.18 in /usr/local/lib/python3.11/dist-packages (from tensorflow) (2.18.0)\n",
            "Requirement already satisfied: keras>=3.5.0 in /usr/local/lib/python3.11/dist-packages (from tensorflow) (3.8.0)\n",
            "Requirement already satisfied: h5py>=3.11.0 in /usr/local/lib/python3.11/dist-packages (from tensorflow) (3.12.1)\n",
            "Requirement already satisfied: ml-dtypes<0.5.0,>=0.4.0 in /usr/local/lib/python3.11/dist-packages (from tensorflow) (0.4.1)\n",
            "Requirement already satisfied: tensorflow-io-gcs-filesystem>=0.23.1 in /usr/local/lib/python3.11/dist-packages (from tensorflow) (0.37.1)\n",
            "Requirement already satisfied: wheel<1.0,>=0.23.0 in /usr/local/lib/python3.11/dist-packages (from astunparse>=1.6.0->tensorflow) (0.45.1)\n",
            "Requirement already satisfied: rich in /usr/local/lib/python3.11/dist-packages (from keras>=3.5.0->tensorflow) (13.9.4)\n",
            "Requirement already satisfied: namex in /usr/local/lib/python3.11/dist-packages (from keras>=3.5.0->tensorflow) (0.0.8)\n",
            "Requirement already satisfied: optree in /usr/local/lib/python3.11/dist-packages (from keras>=3.5.0->tensorflow) (0.14.0)\n",
            "Requirement already satisfied: charset-normalizer<4,>=2 in /usr/local/lib/python3.11/dist-packages (from requests<3,>=2.21.0->tensorflow) (3.4.1)\n",
            "Requirement already satisfied: idna<4,>=2.5 in /usr/local/lib/python3.11/dist-packages (from requests<3,>=2.21.0->tensorflow) (3.10)\n",
            "Requirement already satisfied: urllib3<3,>=1.21.1 in /usr/local/lib/python3.11/dist-packages (from requests<3,>=2.21.0->tensorflow) (2.3.0)\n",
            "Requirement already satisfied: certifi>=2017.4.17 in /usr/local/lib/python3.11/dist-packages (from requests<3,>=2.21.0->tensorflow) (2025.1.31)\n",
            "Requirement already satisfied: markdown>=2.6.8 in /usr/local/lib/python3.11/dist-packages (from tensorboard<2.19,>=2.18->tensorflow) (3.7)\n",
            "Requirement already satisfied: tensorboard-data-server<0.8.0,>=0.7.0 in /usr/local/lib/python3.11/dist-packages (from tensorboard<2.19,>=2.18->tensorflow) (0.7.2)\n",
            "Requirement already satisfied: werkzeug>=1.0.1 in /usr/local/lib/python3.11/dist-packages (from tensorboard<2.19,>=2.18->tensorflow) (3.1.3)\n",
            "Requirement already satisfied: MarkupSafe>=2.1.1 in /usr/local/lib/python3.11/dist-packages (from werkzeug>=1.0.1->tensorboard<2.19,>=2.18->tensorflow) (3.0.2)\n",
            "Requirement already satisfied: markdown-it-py>=2.2.0 in /usr/local/lib/python3.11/dist-packages (from rich->keras>=3.5.0->tensorflow) (3.0.0)\n",
            "Requirement already satisfied: pygments<3.0.0,>=2.13.0 in /usr/local/lib/python3.11/dist-packages (from rich->keras>=3.5.0->tensorflow) (2.18.0)\n",
            "Requirement already satisfied: mdurl~=0.1 in /usr/local/lib/python3.11/dist-packages (from markdown-it-py>=2.2.0->rich->keras>=3.5.0->tensorflow) (0.1.2)\n"
          ]
        }
      ],
      "source": [
        "pip install tensorflow numpy"
      ]
    },
    {
      "cell_type": "markdown",
      "metadata": {
        "id": "_35Q-m4IAHFo"
      },
      "source": [
        "# Importing Required Libraries"
      ]
    },
    {
      "cell_type": "code",
      "execution_count": null,
      "metadata": {
        "id": "m_lvhWqvSgvy"
      },
      "outputs": [],
      "source": [
        "import numpy as np\n",
        "import tensorflow as tf\n",
        "from tensorflow.keras.models import Sequential\n",
        "from tensorflow.keras.layers import Embedding, LSTM, Dense\n",
        "from tensorflow.keras.preprocessing.text import Tokenizer\n",
        "from tensorflow.keras.preprocessing.sequence import pad_sequences\n",
        "import matplotlib.pyplot as plt\n",
        "import requests"
      ]
    },
    {
      "cell_type": "markdown",
      "metadata": {
        "id": "Ku1dRIJ0ABto"
      },
      "source": [
        "# Tokenizing and Generating Sequences"
      ]
    },
    {
      "cell_type": "code",
      "execution_count": null,
      "metadata": {
        "colab": {
          "base_uri": "https://localhost:8080/"
        },
        "id": "RVprAmcGSoLO",
        "outputId": "c34b71fd-5170-43e4-8ceb-bb4a87019f7b"
      },
      "outputs": [
        {
          "name": "stdout",
          "output_type": "stream",
          "text": [
            "Word Index: {'the': 1, 'fox': 2, 'dog': 3, 'quick': 4, 'brown': 5, 'jumps': 6, 'over': 7, 'lazy': 8, 'sleeps': 9, 'peacefully': 10, 'while': 11, 'runs': 12, 'fast': 13}\n",
            "Vocabulary Size: 14\n",
            "Example Input Sequence (X): [0 0 0 0 0 0 0 1]\n",
            "Example Output (y): [0. 0. 0. 0. 1. 0. 0. 0. 0. 0. 0. 0. 0. 0.]\n"
          ]
        }
      ],
      "source": [
        "\n",
        "corpus = \"\"\"\n",
        "The quick brown fox jumps over the lazy dog.\n",
        "The dog sleeps peacefully while the fox runs fast.\n",
        "\"\"\"\n",
        "\n",
        "\n",
        "tokenizer = Tokenizer()\n",
        "tokenizer.fit_on_texts([corpus])\n",
        "word_index = tokenizer.word_index\n",
        "vocab_size = len(word_index) + 1\n",
        "\n",
        "print(\"Word Index:\", word_index)\n",
        "print(\"Vocabulary Size:\", vocab_size)\n",
        "\n",
        "\n",
        "sequences = []\n",
        "for line in corpus.split('\\n'):\n",
        "    token_list = tokenizer.texts_to_sequences([line])[0]\n",
        "    for i in range(1, len(token_list)):\n",
        "        n_gram_sequence = token_list[:i+1]\n",
        "        sequences.append(n_gram_sequence)\n",
        "\n",
        "\n",
        "max_sequence_len = max([len(seq) for seq in sequences])\n",
        "sequences = pad_sequences(sequences, maxlen=max_sequence_len, padding='pre')\n",
        "\n",
        "\n",
        "X, y = sequences[:, :-1], sequences[:, -1]\n",
        "y = tf.keras.utils.to_categorical(y, num_classes=vocab_size)\n",
        "\n",
        "print(\"Example Input Sequence (X):\", X[0])\n",
        "print(\"Example Output (y):\", y[0])"
      ]
    },
    {
      "cell_type": "markdown",
      "metadata": {
        "id": "_gzS4xHe_7tY"
      },
      "source": [
        "# Defining the Model"
      ]
    },
    {
      "cell_type": "code",
      "execution_count": null,
      "metadata": {
        "colab": {
          "base_uri": "https://localhost:8080/"
        },
        "id": "W6zGkUVfSuWI",
        "outputId": "fcfbcd7d-be4d-4076-e0dd-3e68b3d49ae3"
      },
      "outputs": [
        {
          "name": "stderr",
          "output_type": "stream",
          "text": [
            "/usr/local/lib/python3.11/dist-packages/keras/src/layers/core/embedding.py:90: UserWarning: Argument `input_length` is deprecated. Just remove it.\n",
            "  warnings.warn(\n"
          ]
        }
      ],
      "source": [
        "\n",
        "model = Sequential([\n",
        "    Embedding(vocab_size, 50, input_length=max_sequence_len-1),\n",
        "    LSTM(100, return_sequences=True),\n",
        "    LSTM(100),\n",
        "    Dense(100, activation='relu'),\n",
        "    Dense(vocab_size, activation='softmax')\n",
        "])\n",
        "\n",
        "\n",
        "model.compile(loss='categorical_crossentropy', optimizer='adam', metrics=['accuracy'])\n"
      ]
    },
    {
      "cell_type": "markdown",
      "metadata": {
        "id": "1btpaxsQ_4DU"
      },
      "source": [
        "# Training the Model"
      ]
    },
    {
      "cell_type": "code",
      "execution_count": null,
      "metadata": {
        "colab": {
          "base_uri": "https://localhost:8080/",
          "height": 1000
        },
        "id": "dhDf_0HQSxWi",
        "outputId": "4e84bfa0-4465-4f14-d278-02425c389889"
      },
      "outputs": [
        {
          "name": "stdout",
          "output_type": "stream",
          "text": [
            "Epoch 1/100\n",
            "\u001b[1m16/16\u001b[0m \u001b[32m━━━━━━━━━━━━━━━━━━━━\u001b[0m\u001b[37m\u001b[0m \u001b[1m3s\u001b[0m 7ms/step - accuracy: 0.0000e+00 - loss: 2.6453\n",
            "Epoch 2/100\n",
            "\u001b[1m16/16\u001b[0m \u001b[32m━━━━━━━━━━━━━━━━━━━━\u001b[0m\u001b[37m\u001b[0m \u001b[1m0s\u001b[0m 7ms/step - accuracy: 0.1740 - loss: 2.6321\n",
            "Epoch 3/100\n",
            "\u001b[1m16/16\u001b[0m \u001b[32m━━━━━━━━━━━━━━━━━━━━\u001b[0m\u001b[37m\u001b[0m \u001b[1m0s\u001b[0m 7ms/step - accuracy: 0.1049 - loss: 2.6208\n",
            "Epoch 4/100\n",
            "\u001b[1m16/16\u001b[0m \u001b[32m━━━━━━━━━━━━━━━━━━━━\u001b[0m\u001b[37m\u001b[0m \u001b[1m0s\u001b[0m 7ms/step - accuracy: 0.1864 - loss: 2.5842\n",
            "Epoch 5/100\n",
            "\u001b[1m16/16\u001b[0m \u001b[32m━━━━━━━━━━━━━━━━━━━━\u001b[0m\u001b[37m\u001b[0m \u001b[1m0s\u001b[0m 7ms/step - accuracy: 0.1250 - loss: 2.5114\n",
            "Epoch 6/100\n",
            "\u001b[1m16/16\u001b[0m \u001b[32m━━━━━━━━━━━━━━━━━━━━\u001b[0m\u001b[37m\u001b[0m \u001b[1m0s\u001b[0m 7ms/step - accuracy: 0.1049 - loss: 2.4938\n",
            "Epoch 7/100\n",
            "\u001b[1m16/16\u001b[0m \u001b[32m━━━━━━━━━━━━━━━━━━━━\u001b[0m\u001b[37m\u001b[0m \u001b[1m0s\u001b[0m 7ms/step - accuracy: 0.2048 - loss: 2.2895\n",
            "Epoch 8/100\n",
            "\u001b[1m16/16\u001b[0m \u001b[32m━━━━━━━━━━━━━━━━━━━━\u001b[0m\u001b[37m\u001b[0m \u001b[1m0s\u001b[0m 7ms/step - accuracy: 0.1756 - loss: 2.2124\n",
            "Epoch 9/100\n",
            "\u001b[1m16/16\u001b[0m \u001b[32m━━━━━━━━━━━━━━━━━━━━\u001b[0m\u001b[37m\u001b[0m \u001b[1m0s\u001b[0m 7ms/step - accuracy: 0.3536 - loss: 1.9241\n",
            "Epoch 10/100\n",
            "\u001b[1m16/16\u001b[0m \u001b[32m━━━━━━━━━━━━━━━━━━━━\u001b[0m\u001b[37m\u001b[0m \u001b[1m0s\u001b[0m 7ms/step - accuracy: 0.1731 - loss: 2.3026\n",
            "Epoch 11/100\n",
            "\u001b[1m16/16\u001b[0m \u001b[32m━━━━━━━━━━━━━━━━━━━━\u001b[0m\u001b[37m\u001b[0m \u001b[1m0s\u001b[0m 7ms/step - accuracy: 0.1864 - loss: 2.0303\n",
            "Epoch 12/100\n",
            "\u001b[1m16/16\u001b[0m \u001b[32m━━━━━━━━━━━━━━━━━━━━\u001b[0m\u001b[37m\u001b[0m \u001b[1m0s\u001b[0m 7ms/step - accuracy: 0.2370 - loss: 1.9700\n",
            "Epoch 13/100\n",
            "\u001b[1m16/16\u001b[0m \u001b[32m━━━━━━━━━━━━━━━━━━━━\u001b[0m\u001b[37m\u001b[0m \u001b[1m0s\u001b[0m 6ms/step - accuracy: 0.3775 - loss: 1.5810\n",
            "Epoch 14/100\n",
            "\u001b[1m16/16\u001b[0m \u001b[32m━━━━━━━━━━━━━━━━━━━━\u001b[0m\u001b[37m\u001b[0m \u001b[1m0s\u001b[0m 6ms/step - accuracy: 0.1991 - loss: 1.5595\n",
            "Epoch 15/100\n",
            "\u001b[1m16/16\u001b[0m \u001b[32m━━━━━━━━━━━━━━━━━━━━\u001b[0m\u001b[37m\u001b[0m \u001b[1m0s\u001b[0m 7ms/step - accuracy: 0.5656 - loss: 1.2531\n",
            "Epoch 16/100\n",
            "\u001b[1m16/16\u001b[0m \u001b[32m━━━━━━━━━━━━━━━━━━━━\u001b[0m\u001b[37m\u001b[0m \u001b[1m0s\u001b[0m 7ms/step - accuracy: 0.4704 - loss: 1.4194\n",
            "Epoch 17/100\n",
            "\u001b[1m16/16\u001b[0m \u001b[32m━━━━━━━━━━━━━━━━━━━━\u001b[0m\u001b[37m\u001b[0m \u001b[1m0s\u001b[0m 7ms/step - accuracy: 0.3332 - loss: 1.5024\n",
            "Epoch 18/100\n",
            "\u001b[1m16/16\u001b[0m \u001b[32m━━━━━━━━━━━━━━━━━━━━\u001b[0m\u001b[37m\u001b[0m \u001b[1m0s\u001b[0m 6ms/step - accuracy: 0.3981 - loss: 1.3423\n",
            "Epoch 19/100\n",
            "\u001b[1m16/16\u001b[0m \u001b[32m━━━━━━━━━━━━━━━━━━━━\u001b[0m\u001b[37m\u001b[0m \u001b[1m0s\u001b[0m 7ms/step - accuracy: 0.5831 - loss: 1.0828\n",
            "Epoch 20/100\n",
            "\u001b[1m16/16\u001b[0m \u001b[32m━━━━━━━━━━━━━━━━━━━━\u001b[0m\u001b[37m\u001b[0m \u001b[1m0s\u001b[0m 6ms/step - accuracy: 0.6839 - loss: 0.9587\n",
            "Epoch 21/100\n",
            "\u001b[1m16/16\u001b[0m \u001b[32m━━━━━━━━━━━━━━━━━━━━\u001b[0m\u001b[37m\u001b[0m \u001b[1m0s\u001b[0m 6ms/step - accuracy: 0.6105 - loss: 1.1123\n",
            "Epoch 22/100\n",
            "\u001b[1m16/16\u001b[0m \u001b[32m━━━━━━━━━━━━━━━━━━━━\u001b[0m\u001b[37m\u001b[0m \u001b[1m0s\u001b[0m 6ms/step - accuracy: 0.7501 - loss: 0.9870\n",
            "Epoch 23/100\n",
            "\u001b[1m16/16\u001b[0m \u001b[32m━━━━━━━━━━━━━━━━━━━━\u001b[0m\u001b[37m\u001b[0m \u001b[1m0s\u001b[0m 7ms/step - accuracy: 0.6604 - loss: 0.7363\n",
            "Epoch 24/100\n",
            "\u001b[1m16/16\u001b[0m \u001b[32m━━━━━━━━━━━━━━━━━━━━\u001b[0m\u001b[37m\u001b[0m \u001b[1m0s\u001b[0m 7ms/step - accuracy: 0.4543 - loss: 1.0057\n",
            "Epoch 25/100\n",
            "\u001b[1m16/16\u001b[0m \u001b[32m━━━━━━━━━━━━━━━━━━━━\u001b[0m\u001b[37m\u001b[0m \u001b[1m0s\u001b[0m 7ms/step - accuracy: 0.6880 - loss: 0.9785\n",
            "Epoch 26/100\n",
            "\u001b[1m16/16\u001b[0m \u001b[32m━━━━━━━━━━━━━━━━━━━━\u001b[0m\u001b[37m\u001b[0m \u001b[1m0s\u001b[0m 7ms/step - accuracy: 0.8511 - loss: 0.5656\n",
            "Epoch 27/100\n",
            "\u001b[1m16/16\u001b[0m \u001b[32m━━━━━━━━━━━━━━━━━━━━\u001b[0m\u001b[37m\u001b[0m \u001b[1m0s\u001b[0m 7ms/step - accuracy: 0.8334 - loss: 0.6796\n",
            "Epoch 28/100\n",
            "\u001b[1m16/16\u001b[0m \u001b[32m━━━━━━━━━━━━━━━━━━━━\u001b[0m\u001b[37m\u001b[0m \u001b[1m0s\u001b[0m 6ms/step - accuracy: 0.8405 - loss: 0.4139\n",
            "Epoch 29/100\n",
            "\u001b[1m16/16\u001b[0m \u001b[32m━━━━━━━━━━━━━━━━━━━━\u001b[0m\u001b[37m\u001b[0m \u001b[1m0s\u001b[0m 6ms/step - accuracy: 0.5741 - loss: 0.8902\n",
            "Epoch 30/100\n",
            "\u001b[1m16/16\u001b[0m \u001b[32m━━━━━━━━━━━━━━━━━━━━\u001b[0m\u001b[37m\u001b[0m \u001b[1m0s\u001b[0m 7ms/step - accuracy: 0.8536 - loss: 0.6030\n",
            "Epoch 31/100\n",
            "\u001b[1m16/16\u001b[0m \u001b[32m━━━━━━━━━━━━━━━━━━━━\u001b[0m\u001b[37m\u001b[0m \u001b[1m0s\u001b[0m 6ms/step - accuracy: 0.8304 - loss: 0.4457\n",
            "Epoch 32/100\n",
            "\u001b[1m16/16\u001b[0m \u001b[32m━━━━━━━━━━━━━━━━━━━━\u001b[0m\u001b[37m\u001b[0m \u001b[1m0s\u001b[0m 8ms/step - accuracy: 0.8175 - loss: 0.3997\n",
            "Epoch 33/100\n",
            "\u001b[1m16/16\u001b[0m \u001b[32m━━━━━━━━━━━━━━━━━━━━\u001b[0m\u001b[37m\u001b[0m \u001b[1m0s\u001b[0m 7ms/step - accuracy: 0.7672 - loss: 0.5837\n",
            "Epoch 34/100\n",
            "\u001b[1m16/16\u001b[0m \u001b[32m━━━━━━━━━━━━━━━━━━━━\u001b[0m\u001b[37m\u001b[0m \u001b[1m0s\u001b[0m 7ms/step - accuracy: 0.9751 - loss: 0.3441\n",
            "Epoch 35/100\n",
            "\u001b[1m16/16\u001b[0m \u001b[32m━━━━━━━━━━━━━━━━━━━━\u001b[0m\u001b[37m\u001b[0m \u001b[1m0s\u001b[0m 7ms/step - accuracy: 0.9639 - loss: 0.4131\n",
            "Epoch 36/100\n",
            "\u001b[1m16/16\u001b[0m \u001b[32m━━━━━━━━━━━━━━━━━━━━\u001b[0m\u001b[37m\u001b[0m \u001b[1m0s\u001b[0m 6ms/step - accuracy: 0.9500 - loss: 0.3863\n",
            "Epoch 37/100\n",
            "\u001b[1m16/16\u001b[0m \u001b[32m━━━━━━━━━━━━━━━━━━━━\u001b[0m\u001b[37m\u001b[0m \u001b[1m0s\u001b[0m 6ms/step - accuracy: 0.9697 - loss: 0.3252\n",
            "Epoch 38/100\n",
            "\u001b[1m16/16\u001b[0m \u001b[32m━━━━━━━━━━━━━━━━━━━━\u001b[0m\u001b[37m\u001b[0m \u001b[1m0s\u001b[0m 7ms/step - accuracy: 0.9845 - loss: 0.2154\n",
            "Epoch 39/100\n",
            "\u001b[1m16/16\u001b[0m \u001b[32m━━━━━━━━━━━━━━━━━━━━\u001b[0m\u001b[37m\u001b[0m \u001b[1m0s\u001b[0m 7ms/step - accuracy: 0.8501 - loss: 0.3437\n",
            "Epoch 40/100\n",
            "\u001b[1m16/16\u001b[0m \u001b[32m━━━━━━━━━━━━━━━━━━━━\u001b[0m\u001b[37m\u001b[0m \u001b[1m0s\u001b[0m 7ms/step - accuracy: 0.6864 - loss: 0.3794\n",
            "Epoch 41/100\n",
            "\u001b[1m16/16\u001b[0m \u001b[32m━━━━━━━━━━━━━━━━━━━━\u001b[0m\u001b[37m\u001b[0m \u001b[1m0s\u001b[0m 7ms/step - accuracy: 0.9205 - loss: 0.2127\n",
            "Epoch 42/100\n",
            "\u001b[1m16/16\u001b[0m \u001b[32m━━━━━━━━━━━━━━━━━━━━\u001b[0m\u001b[37m\u001b[0m \u001b[1m0s\u001b[0m 6ms/step - accuracy: 0.9500 - loss: 0.2049\n",
            "Epoch 43/100\n",
            "\u001b[1m16/16\u001b[0m \u001b[32m━━━━━━━━━━━━━━━━━━━━\u001b[0m\u001b[37m\u001b[0m \u001b[1m0s\u001b[0m 6ms/step - accuracy: 0.8898 - loss: 0.2038\n",
            "Epoch 44/100\n",
            "\u001b[1m16/16\u001b[0m \u001b[32m━━━━━━━━━━━━━━━━━━━━\u001b[0m\u001b[37m\u001b[0m \u001b[1m0s\u001b[0m 6ms/step - accuracy: 0.9845 - loss: 0.1600\n",
            "Epoch 45/100\n",
            "\u001b[1m16/16\u001b[0m \u001b[32m━━━━━━━━━━━━━━━━━━━━\u001b[0m\u001b[37m\u001b[0m \u001b[1m0s\u001b[0m 6ms/step - accuracy: 0.9751 - loss: 0.1788\n",
            "Epoch 46/100\n",
            "\u001b[1m16/16\u001b[0m \u001b[32m━━━━━━━━━━━━━━━━━━━━\u001b[0m\u001b[37m\u001b[0m \u001b[1m0s\u001b[0m 7ms/step - accuracy: 0.9751 - loss: 0.1244\n",
            "Epoch 47/100\n",
            "\u001b[1m16/16\u001b[0m \u001b[32m━━━━━━━━━━━━━━━━━━━━\u001b[0m\u001b[37m\u001b[0m \u001b[1m0s\u001b[0m 7ms/step - accuracy: 0.9416 - loss: 0.2061\n",
            "Epoch 48/100\n",
            "\u001b[1m16/16\u001b[0m \u001b[32m━━━━━━━━━━━━━━━━━━━━\u001b[0m\u001b[37m\u001b[0m \u001b[1m0s\u001b[0m 7ms/step - accuracy: 0.7292 - loss: 0.2699\n",
            "Epoch 49/100\n",
            "\u001b[1m16/16\u001b[0m \u001b[32m━━━━━━━━━━━━━━━━━━━━\u001b[0m\u001b[37m\u001b[0m \u001b[1m0s\u001b[0m 7ms/step - accuracy: 0.9697 - loss: 0.1218\n",
            "Epoch 50/100\n",
            "\u001b[1m16/16\u001b[0m \u001b[32m━━━━━━━━━━━━━━━━━━━━\u001b[0m\u001b[37m\u001b[0m \u001b[1m0s\u001b[0m 6ms/step - accuracy: 0.9800 - loss: 0.1842\n",
            "Epoch 51/100\n",
            "\u001b[1m16/16\u001b[0m \u001b[32m━━━━━━━━━━━━━━━━━━━━\u001b[0m\u001b[37m\u001b[0m \u001b[1m0s\u001b[0m 6ms/step - accuracy: 0.9845 - loss: 0.1814\n",
            "Epoch 52/100\n",
            "\u001b[1m16/16\u001b[0m \u001b[32m━━━━━━━━━━━━━━━━━━━━\u001b[0m\u001b[37m\u001b[0m \u001b[1m0s\u001b[0m 6ms/step - accuracy: 0.8692 - loss: 0.1447\n",
            "Epoch 53/100\n",
            "\u001b[1m16/16\u001b[0m \u001b[32m━━━━━━━━━━━━━━━━━━━━\u001b[0m\u001b[37m\u001b[0m \u001b[1m0s\u001b[0m 7ms/step - accuracy: 0.9926 - loss: 0.0935\n",
            "Epoch 54/100\n",
            "\u001b[1m16/16\u001b[0m \u001b[32m━━━━━━━━━━━━━━━━━━━━\u001b[0m\u001b[37m\u001b[0m \u001b[1m0s\u001b[0m 7ms/step - accuracy: 0.7975 - loss: 0.3591\n",
            "Epoch 55/100\n",
            "\u001b[1m16/16\u001b[0m \u001b[32m━━━━━━━━━━━━━━━━━━━━\u001b[0m\u001b[37m\u001b[0m \u001b[1m0s\u001b[0m 7ms/step - accuracy: 0.9800 - loss: 0.0727\n",
            "Epoch 56/100\n",
            "\u001b[1m16/16\u001b[0m \u001b[32m━━━━━━━━━━━━━━━━━━━━\u001b[0m\u001b[37m\u001b[0m \u001b[1m0s\u001b[0m 7ms/step - accuracy: 0.9726 - loss: 0.0493\n",
            "Epoch 57/100\n",
            "\u001b[1m16/16\u001b[0m \u001b[32m━━━━━━━━━━━━━━━━━━━━\u001b[0m\u001b[37m\u001b[0m \u001b[1m0s\u001b[0m 7ms/step - accuracy: 0.9167 - loss: 0.0996\n",
            "Epoch 58/100\n",
            "\u001b[1m16/16\u001b[0m \u001b[32m━━━━━━━━━━━━━━━━━━━━\u001b[0m\u001b[37m\u001b[0m \u001b[1m0s\u001b[0m 6ms/step - accuracy: 0.8518 - loss: 0.1346\n",
            "Epoch 59/100\n",
            "\u001b[1m16/16\u001b[0m \u001b[32m━━━━━━━━━━━━━━━━━━━━\u001b[0m\u001b[37m\u001b[0m \u001b[1m0s\u001b[0m 6ms/step - accuracy: 0.9416 - loss: 0.1424\n",
            "Epoch 60/100\n",
            "\u001b[1m16/16\u001b[0m \u001b[32m━━━━━━━━━━━━━━━━━━━━\u001b[0m\u001b[37m\u001b[0m \u001b[1m0s\u001b[0m 6ms/step - accuracy: 0.8518 - loss: 0.1344\n",
            "Epoch 61/100\n",
            "\u001b[1m16/16\u001b[0m \u001b[32m━━━━━━━━━━━━━━━━━━━━\u001b[0m\u001b[37m\u001b[0m \u001b[1m0s\u001b[0m 7ms/step - accuracy: 0.9887 - loss: 0.0524\n",
            "Epoch 62/100\n",
            "\u001b[1m16/16\u001b[0m \u001b[32m━━━━━━━━━━━━━━━━━━━━\u001b[0m\u001b[37m\u001b[0m \u001b[1m0s\u001b[0m 7ms/step - accuracy: 0.9800 - loss: 0.0661\n",
            "Epoch 63/100\n",
            "\u001b[1m16/16\u001b[0m \u001b[32m━━━━━━━━━━━━━━━━━━━━\u001b[0m\u001b[37m\u001b[0m \u001b[1m0s\u001b[0m 6ms/step - accuracy: 0.8563 - loss: 0.2051\n",
            "Epoch 64/100\n",
            "\u001b[1m16/16\u001b[0m \u001b[32m━━━━━━━━━━━━━━━━━━━━\u001b[0m\u001b[37m\u001b[0m \u001b[1m0s\u001b[0m 7ms/step - accuracy: 0.9336 - loss: 0.0742\n",
            "Epoch 65/100\n",
            "\u001b[1m16/16\u001b[0m \u001b[32m━━━━━━━━━━━━━━━━━━━━\u001b[0m\u001b[37m\u001b[0m \u001b[1m0s\u001b[0m 7ms/step - accuracy: 0.9926 - loss: 0.1007\n",
            "Epoch 66/100\n",
            "\u001b[1m16/16\u001b[0m \u001b[32m━━━━━━━━━━━━━━━━━━━━\u001b[0m\u001b[37m\u001b[0m \u001b[1m0s\u001b[0m 6ms/step - accuracy: 0.9800 - loss: 0.0583\n",
            "Epoch 67/100\n",
            "\u001b[1m16/16\u001b[0m \u001b[32m━━━━━━━━━━━━━━━━━━━━\u001b[0m\u001b[37m\u001b[0m \u001b[1m0s\u001b[0m 8ms/step - accuracy: 0.7726 - loss: 0.1866\n",
            "Epoch 68/100\n",
            "\u001b[1m16/16\u001b[0m \u001b[32m━━━━━━━━━━━━━━━━━━━━\u001b[0m\u001b[37m\u001b[0m \u001b[1m0s\u001b[0m 11ms/step - accuracy: 0.9500 - loss: 0.1355\n",
            "Epoch 69/100\n",
            "\u001b[1m16/16\u001b[0m \u001b[32m━━━━━━━━━━━━━━━━━━━━\u001b[0m\u001b[37m\u001b[0m \u001b[1m0s\u001b[0m 10ms/step - accuracy: 0.9573 - loss: 0.0669\n",
            "Epoch 70/100\n",
            "\u001b[1m16/16\u001b[0m \u001b[32m━━━━━━━━━━━━━━━━━━━━\u001b[0m\u001b[37m\u001b[0m \u001b[1m0s\u001b[0m 10ms/step - accuracy: 0.9751 - loss: 0.1023\n",
            "Epoch 71/100\n",
            "\u001b[1m16/16\u001b[0m \u001b[32m━━━━━━━━━━━━━━━━━━━━\u001b[0m\u001b[37m\u001b[0m \u001b[1m0s\u001b[0m 10ms/step - accuracy: 0.9500 - loss: 0.1161\n",
            "Epoch 72/100\n",
            "\u001b[1m16/16\u001b[0m \u001b[32m━━━━━━━━━━━━━━━━━━━━\u001b[0m\u001b[37m\u001b[0m \u001b[1m0s\u001b[0m 11ms/step - accuracy: 0.8273 - loss: 0.1434\n",
            "Epoch 73/100\n",
            "\u001b[1m16/16\u001b[0m \u001b[32m━━━━━━━━━━━━━━━━━━━━\u001b[0m\u001b[37m\u001b[0m \u001b[1m0s\u001b[0m 11ms/step - accuracy: 0.9318 - loss: 0.1681\n",
            "Epoch 74/100\n",
            "\u001b[1m16/16\u001b[0m \u001b[32m━━━━━━━━━━━━━━━━━━━━\u001b[0m\u001b[37m\u001b[0m \u001b[1m0s\u001b[0m 7ms/step - accuracy: 0.9751 - loss: 0.0918\n",
            "Epoch 75/100\n",
            "\u001b[1m16/16\u001b[0m \u001b[32m━━━━━━━━━━━━━━━━━━━━\u001b[0m\u001b[37m\u001b[0m \u001b[1m0s\u001b[0m 7ms/step - accuracy: 0.8857 - loss: 0.1672\n",
            "Epoch 76/100\n",
            "\u001b[1m16/16\u001b[0m \u001b[32m━━━━━━━━━━━━━━━━━━━━\u001b[0m\u001b[37m\u001b[0m \u001b[1m0s\u001b[0m 9ms/step - accuracy: 0.8063 - loss: 0.1682\n",
            "Epoch 77/100\n",
            "\u001b[1m16/16\u001b[0m \u001b[32m━━━━━━━━━━━━━━━━━━━━\u001b[0m\u001b[37m\u001b[0m \u001b[1m0s\u001b[0m 7ms/step - accuracy: 0.9045 - loss: 0.0854\n",
            "Epoch 78/100\n",
            "\u001b[1m16/16\u001b[0m \u001b[32m━━━━━━━━━━━━━━━━━━━━\u001b[0m\u001b[37m\u001b[0m \u001b[1m0s\u001b[0m 7ms/step - accuracy: 0.9500 - loss: 0.1257\n",
            "Epoch 79/100\n",
            "\u001b[1m16/16\u001b[0m \u001b[32m━━━━━━━━━━━━━━━━━━━━\u001b[0m\u001b[37m\u001b[0m \u001b[1m0s\u001b[0m 7ms/step - accuracy: 0.9887 - loss: 0.0237\n",
            "Epoch 80/100\n",
            "\u001b[1m16/16\u001b[0m \u001b[32m━━━━━━━━━━━━━━━━━━━━\u001b[0m\u001b[37m\u001b[0m \u001b[1m0s\u001b[0m 7ms/step - accuracy: 0.9500 - loss: 0.0533\n",
            "Epoch 81/100\n",
            "\u001b[1m16/16\u001b[0m \u001b[32m━━━━━━━━━━━━━━━━━━━━\u001b[0m\u001b[37m\u001b[0m \u001b[1m0s\u001b[0m 7ms/step - accuracy: 0.8469 - loss: 0.1292\n",
            "Epoch 82/100\n",
            "\u001b[1m16/16\u001b[0m \u001b[32m━━━━━━━━━━━━━━━━━━━━\u001b[0m\u001b[37m\u001b[0m \u001b[1m0s\u001b[0m 7ms/step - accuracy: 0.8554 - loss: 0.1222\n",
            "Epoch 83/100\n",
            "\u001b[1m16/16\u001b[0m \u001b[32m━━━━━━━━━━━━━━━━━━━━\u001b[0m\u001b[37m\u001b[0m \u001b[1m0s\u001b[0m 7ms/step - accuracy: 0.9565 - loss: 0.0421\n",
            "Epoch 84/100\n",
            "\u001b[1m16/16\u001b[0m \u001b[32m━━━━━━━━━━━━━━━━━━━━\u001b[0m\u001b[37m\u001b[0m \u001b[1m0s\u001b[0m 7ms/step - accuracy: 0.7616 - loss: 0.1895\n",
            "Epoch 85/100\n",
            "\u001b[1m16/16\u001b[0m \u001b[32m━━━━━━━━━━━━━━━━━━━━\u001b[0m\u001b[37m\u001b[0m \u001b[1m0s\u001b[0m 7ms/step - accuracy: 0.7975 - loss: 0.2375\n",
            "Epoch 86/100\n",
            "\u001b[1m16/16\u001b[0m \u001b[32m━━━━━━━━━━━━━━━━━━━━\u001b[0m\u001b[37m\u001b[0m \u001b[1m0s\u001b[0m 7ms/step - accuracy: 0.9345 - loss: 0.0594\n",
            "Epoch 87/100\n",
            "\u001b[1m16/16\u001b[0m \u001b[32m━━━━━━━━━━━━━━━━━━━━\u001b[0m\u001b[37m\u001b[0m \u001b[1m0s\u001b[0m 7ms/step - accuracy: 0.9887 - loss: 0.0931\n",
            "Epoch 88/100\n",
            "\u001b[1m16/16\u001b[0m \u001b[32m━━━━━━━━━━━━━━━━━━━━\u001b[0m\u001b[37m\u001b[0m \u001b[1m0s\u001b[0m 7ms/step - accuracy: 0.9887 - loss: 0.0369\n",
            "Epoch 89/100\n",
            "\u001b[1m16/16\u001b[0m \u001b[32m━━━━━━━━━━━━━━━━━━━━\u001b[0m\u001b[37m\u001b[0m \u001b[1m0s\u001b[0m 7ms/step - accuracy: 0.9197 - loss: 0.0681\n",
            "Epoch 90/100\n",
            "\u001b[1m16/16\u001b[0m \u001b[32m━━━━━━━━━━━━━━━━━━━━\u001b[0m\u001b[37m\u001b[0m \u001b[1m0s\u001b[0m 7ms/step - accuracy: 0.8839 - loss: 0.0929\n",
            "Epoch 91/100\n",
            "\u001b[1m16/16\u001b[0m \u001b[32m━━━━━━━━━━━━━━━━━━━━\u001b[0m\u001b[37m\u001b[0m \u001b[1m0s\u001b[0m 7ms/step - accuracy: 0.9887 - loss: 0.0452\n",
            "Epoch 92/100\n",
            "\u001b[1m16/16\u001b[0m \u001b[32m━━━━━━━━━━━━━━━━━━━━\u001b[0m\u001b[37m\u001b[0m \u001b[1m0s\u001b[0m 7ms/step - accuracy: 0.9526 - loss: 0.0424\n",
            "Epoch 93/100\n",
            "\u001b[1m16/16\u001b[0m \u001b[32m━━━━━━━━━━━━━━━━━━━━\u001b[0m\u001b[37m\u001b[0m \u001b[1m0s\u001b[0m 7ms/step - accuracy: 0.9573 - loss: 0.1011\n",
            "Epoch 94/100\n",
            "\u001b[1m16/16\u001b[0m \u001b[32m━━━━━━━━━━━━━━━━━━━━\u001b[0m\u001b[37m\u001b[0m \u001b[1m0s\u001b[0m 7ms/step - accuracy: 0.9887 - loss: 0.0349\n",
            "Epoch 95/100\n",
            "\u001b[1m16/16\u001b[0m \u001b[32m━━━━━━━━━━━━━━━━━━━━\u001b[0m\u001b[37m\u001b[0m \u001b[1m0s\u001b[0m 6ms/step - accuracy: 0.7979 - loss: 0.1727\n",
            "Epoch 96/100\n",
            "\u001b[1m16/16\u001b[0m \u001b[32m━━━━━━━━━━━━━━━━━━━━\u001b[0m\u001b[37m\u001b[0m \u001b[1m0s\u001b[0m 7ms/step - accuracy: 0.9887 - loss: 0.0713\n",
            "Epoch 97/100\n",
            "\u001b[1m16/16\u001b[0m \u001b[32m━━━━━━━━━━━━━━━━━━━━\u001b[0m\u001b[37m\u001b[0m \u001b[1m0s\u001b[0m 7ms/step - accuracy: 0.8554 - loss: 0.1297\n",
            "Epoch 98/100\n",
            "\u001b[1m16/16\u001b[0m \u001b[32m━━━━━━━━━━━━━━━━━━━━\u001b[0m\u001b[37m\u001b[0m \u001b[1m0s\u001b[0m 7ms/step - accuracy: 0.9416 - loss: 0.1235\n",
            "Epoch 99/100\n",
            "\u001b[1m16/16\u001b[0m \u001b[32m━━━━━━━━━━━━━━━━━━━━\u001b[0m\u001b[37m\u001b[0m \u001b[1m0s\u001b[0m 7ms/step - accuracy: 0.9053 - loss: 0.1517\n",
            "Epoch 100/100\n",
            "\u001b[1m16/16\u001b[0m \u001b[32m━━━━━━━━━━━━━━━━━━━━\u001b[0m\u001b[37m\u001b[0m \u001b[1m0s\u001b[0m 7ms/step - accuracy: 0.9697 - loss: 0.0954\n"
          ]
        },
        {
          "data": {
            "image/png": "[encoded data removed]",
            "text/plain": [
              "<Figure size 640x480 with 1 Axes>"
            ]
          },
          "metadata": {},
          "output_type": "display_data"
        }
      ],
      "source": [
        "\n",
        "history = model.fit(X, y, epochs=100, batch_size=1, verbose=1)\n",
        "\n",
        "\n",
        "import matplotlib.pyplot as plt\n",
        "plt.plot(history.history['accuracy'])\n",
        "plt.title('Model Accuracy')\n",
        "plt.xlabel('Epoch')\n",
        "plt.ylabel('Accuracy')\n",
        "plt.show()"
      ]
    },
    {
      "cell_type": "markdown",
      "metadata": {
        "id": "_VQAMmpq_nJY"
      },
      "source": [
        "# Function to predict the next word"
      ]
    },
    {
      "cell_type": "code",
      "execution_count": null,
      "metadata": {
        "colab": {
          "base_uri": "https://localhost:8080/"
        },
        "id": "bBrP1aNjS0FB",
        "outputId": "57d6c1bf-e26a-4ad5-8cc4-c1418a6da639"
      },
      "outputs": [
        {
          "name": "stdout",
          "output_type": "stream",
          "text": [
            "Seed text: 'the quick' → Predicted next word: 'brown'\n"
          ]
        }
      ],
      "source": [
        "\n",
        "def predict_next_word(model, tokenizer, text, max_sequence_len):\n",
        "    token_list = tokenizer.texts_to_sequences([text])[0]\n",
        "    token_list = pad_sequences([token_list], maxlen=max_sequence_len-1, padding='pre')\n",
        "    predicted = model.predict(token_list, verbose=0)\n",
        "    predicted_word_index = np.argmax(predicted, axis=1)[0]\n",
        "    for word, index in tokenizer.word_index.items():\n",
        "        if index == predicted_word_index:\n",
        "            return word\n",
        "    return None\n",
        "\n",
        "\n",
        "seed_text = \"the quick\"\n",
        "next_word = predict_next_word(model, tokenizer, seed_text, max_sequence_len)\n",
        "print(f\"Seed text: '{seed_text}' → Predicted next word: '{next_word}'\")"
      ]
    },
    {
      "cell_type": "markdown",
      "metadata": {
        "id": "--m2Kq7t_qdH"
      },
      "source": [
        "# Function to generate a sequence of words"
      ]
    },
    {
      "cell_type": "code",
      "execution_count": null,
      "metadata": {
        "colab": {
          "base_uri": "https://localhost:8080/"
        },
        "id": "yxW5GVj3TIjL",
        "outputId": "ecc31bc1-cce8-4dc2-bc66-8dce495ddc49"
      },
      "outputs": [
        {
          "name": "stdout",
          "output_type": "stream",
          "text": [
            "Seed text: 'the quick' → Generated text: 'the quick brown fox jumps'\n"
          ]
        }
      ],
      "source": [
        "\n",
        "def generate_sequence(model, tokenizer, max_sequence_len, seed_text, num_words):\n",
        "    for _ in range(num_words):\n",
        "        next_word = predict_next_word(model, tokenizer, seed_text, max_sequence_len)\n",
        "        if next_word is None:\n",
        "            break\n",
        "        seed_text += \" \" + next_word\n",
        "    return seed_text\n",
        "\n",
        "seed_text = \"the quick\"\n",
        "generated_text = generate_sequence(model, tokenizer, max_sequence_len, seed_text, 3)\n",
        "print(f\"Seed text: '{seed_text}' → Generated text: '{generated_text}'\")"
      ]
    },
    {
      "cell_type": "markdown",
      "metadata": {
        "id": "OhIpzxhmTgNC"
      },
      "source": [
        "\n",
        "# Fetching a larger dataset (Alice in Wonderland) for Predicting the Next Word"
      ]
    },
    {
      "cell_type": "code",
      "execution_count": null,
      "metadata": {
        "id": "ZAMkmMsXAb4A"
      },
      "outputs": [],
      "source": [
        "url = \"https://www.gutenberg.org/files/11/11-0.txt\"\n",
        "response = requests.get(url)\n",
        "corpus = response.text"
      ]
    },
    {
      "cell_type": "markdown",
      "metadata": {
        "id": "2UfBx0_UAkls"
      },
      "source": [
        "# Triming the header/footer"
      ]
    },
    {
      "cell_type": "code",
      "execution_count": null,
      "metadata": {
        "id": "9-54pM9eAlX8"
      },
      "outputs": [],
      "source": [
        "\n",
        "start_marker = \"*** START OF THE PROJECT GUTENBERG EBOOK\"\n",
        "end_marker = \"*** END OF THE PROJECT GUTENBERG EBOOK\"\n",
        "start_idx = corpus.find(start_marker) + len(start_marker)\n",
        "end_idx = corpus.find(end_marker)\n",
        "corpus = corpus[start_idx:end_idx].strip().lower()"
      ]
    },
    {
      "cell_type": "markdown",
      "metadata": {
        "id": "Kyrpz483AsBy"
      },
      "source": [
        "# Tokenizing the text"
      ]
    },
    {
      "cell_type": "code",
      "execution_count": null,
      "metadata": {
        "colab": {
          "base_uri": "https://localhost:8080/"
        },
        "id": "28QrNuTZAu52",
        "outputId": "9c0c74b5-2afe-40a2-aeea-059f78e4e0d3"
      },
      "outputs": [
        {
          "name": "stdout",
          "output_type": "stream",
          "text": [
            "Vocabulary Size: 3516\n"
          ]
        }
      ],
      "source": [
        "tokenizer = Tokenizer()\n",
        "tokenizer.fit_on_texts([corpus])\n",
        "word_index = tokenizer.word_index\n",
        "vocab_size = len(word_index) + 1\n",
        "print(\"Vocabulary Size:\", vocab_size)"
      ]
    },
    {
      "cell_type": "markdown",
      "metadata": {
        "id": "lGFi7-xhAxfy"
      },
      "source": [
        "# Creating sequences"
      ]
    },
    {
      "cell_type": "code",
      "execution_count": null,
      "metadata": {
        "id": "mNVqrP-QA2nV"
      },
      "outputs": [],
      "source": [
        "\n",
        "sequences = []\n",
        "for line in corpus.split('\\n'):\n",
        "    token_list = tokenizer.texts_to_sequences([line])[0]\n",
        "    for i in range(1, len(token_list)):\n",
        "        n_gram_sequence = token_list[:i+1]\n",
        "        sequences.append(n_gram_sequence)"
      ]
    },
    {
      "cell_type": "markdown",
      "metadata": {
        "id": "w6H49OjpA4V6"
      },
      "source": [
        "# Pading the sequences"
      ]
    },
    {
      "cell_type": "code",
      "execution_count": null,
      "metadata": {
        "colab": {
          "base_uri": "https://localhost:8080/"
        },
        "id": "_2er9ZWVA8RR",
        "outputId": "c157b5e1-8ba3-4eee-8818-21b53b1fac01"
      },
      "outputs": [
        {
          "name": "stdout",
          "output_type": "stream",
          "text": [
            "Max Sequence Length: 18\n"
          ]
        }
      ],
      "source": [
        "max_sequence_len = max([len(seq) for seq in sequences])\n",
        "sequences = pad_sequences(sequences, maxlen=max_sequence_len, padding='pre')\n",
        "print(\"Max Sequence Length:\", max_sequence_len)"
      ]
    },
    {
      "cell_type": "markdown",
      "metadata": {
        "id": "lasoJ1HcA91z"
      },
      "source": [
        "\n",
        "\n",
        "# Spliting into input and output"
      ]
    },
    {
      "cell_type": "code",
      "execution_count": null,
      "metadata": {
        "id": "96ucLpKDBBvO"
      },
      "outputs": [],
      "source": [
        "X, y = sequences[:, :-1], sequences[:, -1]\n",
        "y = tf.keras.utils.to_categorical(y, num_classes=vocab_size)"
      ]
    },
    {
      "cell_type": "markdown",
      "metadata": {
        "id": "darQJa6zBFgn"
      },
      "source": [
        "\n",
        "# Building the model"
      ]
    },
    {
      "cell_type": "code",
      "execution_count": null,
      "metadata": {
        "id": "PBB_xVKUBHyD"
      },
      "outputs": [],
      "source": [
        "model = Sequential([\n",
        "    Embedding(vocab_size, 50, input_length=max_sequence_len-1),\n",
        "    LSTM(100, return_sequences=True),\n",
        "    LSTM(100),\n",
        "    Dense(100, activation='relu'),\n",
        "    Dense(vocab_size, activation='softmax')\n",
        "])"
      ]
    },
    {
      "cell_type": "markdown",
      "metadata": {
        "id": "5d53QLidBQvD"
      },
      "source": [
        "# Compiling the model and training the Model"
      ]
    },
    {
      "cell_type": "code",
      "execution_count": null,
      "metadata": {
        "colab": {
          "base_uri": "https://localhost:8080/"
        },
        "id": "EDA2kDUVBPVr",
        "outputId": "f8f61909-ef67-44a4-f845-06a730904265"
      },
      "outputs": [
        {
          "name": "stdout",
          "output_type": "stream",
          "text": [
            "Epoch 1/20\n",
            "\u001b[1m812/812\u001b[0m \u001b[32m━━━━━━━━━━━━━━━━━━━━\u001b[0m\u001b[37m\u001b[0m \u001b[1m11s\u001b[0m 7ms/step - accuracy: 0.0495 - loss: 6.6384\n",
            "Epoch 2/20\n",
            "\u001b[1m812/812\u001b[0m \u001b[32m━━━━━━━━━━━━━━━━━━━━\u001b[0m\u001b[37m\u001b[0m \u001b[1m8s\u001b[0m 7ms/step - accuracy: 0.0567 - loss: 5.9347\n",
            "Epoch 3/20\n",
            "\u001b[1m812/812\u001b[0m \u001b[32m━━━━━━━━━━━━━━━━━━━━\u001b[0m\u001b[37m\u001b[0m \u001b[1m6s\u001b[0m 8ms/step - accuracy: 0.0743 - loss: 5.7341\n",
            "Epoch 4/20\n",
            "\u001b[1m812/812\u001b[0m \u001b[32m━━━━━━━━━━━━━━━━━━━━\u001b[0m\u001b[37m\u001b[0m \u001b[1m10s\u001b[0m 8ms/step - accuracy: 0.0868 - loss: 5.4972\n",
            "Epoch 5/20\n",
            "\u001b[1m812/812\u001b[0m \u001b[32m━━━━━━━━━━━━━━━━━━━━\u001b[0m\u001b[37m\u001b[0m \u001b[1m10s\u001b[0m 7ms/step - accuracy: 0.0926 - loss: 5.3283\n",
            "Epoch 6/20\n",
            "\u001b[1m812/812\u001b[0m \u001b[32m━━━━━━━━━━━━━━━━━━━━\u001b[0m\u001b[37m\u001b[0m \u001b[1m6s\u001b[0m 8ms/step - accuracy: 0.1090 - loss: 5.1544\n",
            "Epoch 7/20\n",
            "\u001b[1m812/812\u001b[0m \u001b[32m━━━━━━━━━━━━━━━━━━━━\u001b[0m\u001b[37m\u001b[0m \u001b[1m10s\u001b[0m 8ms/step - accuracy: 0.1194 - loss: 5.0155\n",
            "Epoch 8/20\n",
            "\u001b[1m812/812\u001b[0m \u001b[32m━━━━━━━━━━━━━━━━━━━━\u001b[0m\u001b[37m\u001b[0m \u001b[1m10s\u001b[0m 8ms/step - accuracy: 0.1289 - loss: 4.8722\n",
            "Epoch 9/20\n",
            "\u001b[1m812/812\u001b[0m \u001b[32m━━━━━━━━━━━━━━━━━━━━\u001b[0m\u001b[37m\u001b[0m \u001b[1m10s\u001b[0m 7ms/step - accuracy: 0.1368 - loss: 4.7527\n",
            "Epoch 10/20\n",
            "\u001b[1m812/812\u001b[0m \u001b[32m━━━━━━━━━━━━━━━━━━━━\u001b[0m\u001b[37m\u001b[0m \u001b[1m10s\u001b[0m 7ms/step - accuracy: 0.1460 - loss: 4.6206\n",
            "Epoch 11/20\n",
            "\u001b[1m812/812\u001b[0m \u001b[32m━━━━━━━━━━━━━━━━━━━━\u001b[0m\u001b[37m\u001b[0m \u001b[1m10s\u001b[0m 7ms/step - accuracy: 0.1538 - loss: 4.5083\n",
            "Epoch 12/20\n",
            "\u001b[1m812/812\u001b[0m \u001b[32m━━━━━━━━━━━━━━━━━━━━\u001b[0m\u001b[37m\u001b[0m \u001b[1m6s\u001b[0m 8ms/step - accuracy: 0.1556 - loss: 4.4067\n",
            "Epoch 13/20\n",
            "\u001b[1m812/812\u001b[0m \u001b[32m━━━━━━━━━━━━━━━━━━━━\u001b[0m\u001b[37m\u001b[0m \u001b[1m6s\u001b[0m 7ms/step - accuracy: 0.1653 - loss: 4.2870\n",
            "Epoch 14/20\n",
            "\u001b[1m812/812\u001b[0m \u001b[32m━━━━━━━━━━━━━━━━━━━━\u001b[0m\u001b[37m\u001b[0m \u001b[1m6s\u001b[0m 8ms/step - accuracy: 0.1761 - loss: 4.1714\n",
            "Epoch 15/20\n",
            "\u001b[1m812/812\u001b[0m \u001b[32m━━━━━━━━━━━━━━━━━━━━\u001b[0m\u001b[37m\u001b[0m \u001b[1m6s\u001b[0m 7ms/step - accuracy: 0.1812 - loss: 4.0640\n",
            "Epoch 16/20\n",
            "\u001b[1m812/812\u001b[0m \u001b[32m━━━━━━━━━━━━━━━━━━━━\u001b[0m\u001b[37m\u001b[0m \u001b[1m10s\u001b[0m 7ms/step - accuracy: 0.1856 - loss: 3.9724\n",
            "Epoch 17/20\n",
            "\u001b[1m812/812\u001b[0m \u001b[32m━━━━━━━━━━━━━━━━━━━━\u001b[0m\u001b[37m\u001b[0m \u001b[1m10s\u001b[0m 7ms/step - accuracy: 0.1897 - loss: 3.8821\n",
            "Epoch 18/20\n",
            "\u001b[1m812/812\u001b[0m \u001b[32m━━━━━━━━━━━━━━━━━━━━\u001b[0m\u001b[37m\u001b[0m \u001b[1m10s\u001b[0m 7ms/step - accuracy: 0.2004 - loss: 3.7792\n",
            "Epoch 19/20\n",
            "\u001b[1m812/812\u001b[0m \u001b[32m━━━━━━━━━━━━━━━━━━━━\u001b[0m\u001b[37m\u001b[0m \u001b[1m11s\u001b[0m 8ms/step - accuracy: 0.2101 - loss: 3.6937\n",
            "Epoch 20/20\n",
            "\u001b[1m812/812\u001b[0m \u001b[32m━━━━━━━━━━━━━━━━━━━━\u001b[0m\u001b[37m\u001b[0m \u001b[1m6s\u001b[0m 7ms/step - accuracy: 0.2146 - loss: 3.6129\n"
          ]
        }
      ],
      "source": [
        "\n",
        "model.compile(loss='categorical_crossentropy', optimizer='adam', metrics=['accuracy'])\n",
        "\n",
        "history = model.fit(X, y, epochs=20, batch_size=32, verbose=1)\n"
      ]
    },
    {
      "cell_type": "markdown",
      "metadata": {
        "id": "bouegLBEBYg4"
      },
      "source": [
        "# Plot accuracy"
      ]
    },
    {
      "cell_type": "code",
      "execution_count": null,
      "metadata": {
        "colab": {
          "base_uri": "https://localhost:8080/",
          "height": 472
        },
        "id": "sWPpr7TbBXXQ",
        "outputId": "c506a621-75f7-4d46-a6d5-671ae453aa70"
      },
      "outputs": [
        {
          "data": {
            "image/png": "[encoded data removed]",
            "text/plain": [
              "<Figure size 640x480 with 1 Axes>"
            ]
          },
          "metadata": {},
          "output_type": "display_data"
        }
      ],
      "source": [
        "\n",
        "plt.plot(history.history['accuracy'])\n",
        "plt.title('Model Accuracy')\n",
        "plt.xlabel('Epoch')\n",
        "plt.ylabel('Accuracy')\n",
        "plt.show()\n"
      ]
    },
    {
      "cell_type": "markdown",
      "metadata": {
        "id": "xKaVADXZBc2w"
      },
      "source": [
        "# Prediction function"
      ]
    },
    {
      "cell_type": "code",
      "execution_count": null,
      "metadata": {
        "id": "m_RUmRNcBfCB"
      },
      "outputs": [],
      "source": [
        "\n",
        "def predict_next_word(model, tokenizer, text, max_sequence_len):\n",
        "    token_list = tokenizer.texts_to_sequences([text])[0]\n",
        "    token_list = pad_sequences([token_list], maxlen=max_sequence_len-1, padding='pre')\n",
        "    predicted = model.predict(token_list, verbose=0)\n",
        "    predicted_word_index = np.argmax(predicted, axis=1)[0]\n",
        "    for word, index in tokenizer.word_index.items():\n",
        "        if index == predicted_word_index:\n",
        "            return word\n",
        "    return None"
      ]
    },
    {
      "cell_type": "markdown",
      "metadata": {
        "id": "WNZ3rwLwBgtn"
      },
      "source": [
        "\n",
        "# Sequence generation function"
      ]
    },
    {
      "cell_type": "code",
      "execution_count": null,
      "metadata": {
        "id": "laB8XZGNBiTC"
      },
      "outputs": [],
      "source": [
        "def generate_sequence(model, tokenizer, max_sequence_len, seed_text, num_words):\n",
        "    for _ in range(num_words):\n",
        "        next_word = predict_next_word(model, tokenizer, seed_text, max_sequence_len)\n",
        "        if next_word is None:\n",
        "            break\n",
        "        seed_text += \" \" + next_word\n",
        "    return seed_text"
      ]
    },
    {
      "cell_type": "markdown",
      "metadata": {
        "id": "x2NfVOQJBj2j"
      },
      "source": [
        "\n",
        "# Testing the model"
      ]
    },
    {
      "cell_type": "code",
      "execution_count": null,
      "metadata": {
        "colab": {
          "base_uri": "https://localhost:8080/"
        },
        "id": "JrKKZHnRTkl-",
        "outputId": "60d4c556-fd73-4599-dc9a-5fd2f58a8ad6"
      },
      "outputs": [
        {
          "name": "stdout",
          "output_type": "stream",
          "text": [
            "Seed text: 'alice was' → Predicted next word: 'a'\n",
            "Seed text: 'alice was' → Generated text: 'alice was a little deal'\n"
          ]
        }
      ],
      "source": [
        "\n",
        "seed_text = \"alice was\"\n",
        "next_word = predict_next_word(model, tokenizer, seed_text, max_sequence_len)\n",
        "print(f\"Seed text: '{seed_text}' → Predicted next word: '{next_word}'\")\n",
        "generated_text = generate_sequence(model, tokenizer, max_sequence_len, seed_text, 3)\n",
        "print(f\"Seed text: '{seed_text}' → Generated text: '{generated_text}'\")"
      ]
    },
    {
      "cell_type": "markdown",
      "metadata": {
        "id": "rL89ahPjBz3K"
      },
      "source": [
        "# More Examples of the Prediction"
      ]
    },
    {
      "cell_type": "code",
      "execution_count": null,
      "metadata": {
        "colab": {
          "base_uri": "https://localhost:8080/"
        },
        "id": "ViJV-LxZaWHF",
        "outputId": "9644250a-6cc4-494a-e6fc-24b84a9c4e12"
      },
      "outputs": [
        {
          "name": "stdout",
          "output_type": "stream",
          "text": [
            "Testing Next Word Prediction:\n",
            "Seed text: 'alice was' → Predicted next word: 'a'\n",
            "Seed text: 'alice was' → Generated text: 'alice was a little deal'\n",
            "\n",
            "Seed text: 'the white rabbit' → Predicted next word: 'blew'\n",
            "Seed text: 'the white rabbit' → Generated text: 'the white rabbit blew little little'\n",
            "\n",
            "Seed text: 'down the' → Predicted next word: 'rabbit'\n",
            " up'\n",
            "\n",
            "Seed text: 'she fell' → Predicted next word: 'up'\n",
            "Seed text: 'she fell' → Generated text: 'she fell up to say'\n",
            "\n",
            "Seed text: 'what a' → Predicted next word: 'little'\n",
            "Seed text: 'what a' → Generated text: 'what a little deal to'\n",
            "\n",
            "Seed text: 'the mad hatter' → Predicted next word: 'deeply'\n",
            "Seed text: 'the mad hatter' → Generated text: 'the mad hatter deeply and butter'\n",
            "\n",
            "Seed text: 'into the' → Predicted next word: 'rabbit'\n",
            " up'\n",
            "\n",
            "Seed text: 'very curious' → Predicted next word: 'to'\n",
            "Seed text: 'very curious' → Generated text: 'very curious to speak on'\n",
            "\n",
            "Seed text: 'the queen of' → Predicted next word: 'the'\n",
            "Seed text: 'the queen of' → Generated text: 'the queen of the other side'\n",
            "\n",
            "Seed text: 'it was a' → Predicted next word: 'little'\n",
            "Seed text: 'it was a' → Generated text: 'it was a little deal to'\n",
            "\n",
            "Seed text: 'suddenly she' → Predicted next word: 'was'\n",
            "Seed text: 'suddenly she' → Generated text: 'suddenly she was a little'\n",
            "\n",
            "Seed text: 'the little door' → Predicted next word: 'cheered'\n",
            "Seed text: 'the little door' → Generated text: 'the little door cheered and went'\n",
            "\n",
            "Seed text: 'how very' → Predicted next word: 'business'\n",
            "Seed text: 'how very' → Generated text: 'how very business ” the'\n",
            "\n",
            "Seed text: 'through the' → Predicted next word: 'rabbit'\n",
            "Seed text: 'through the' → Generated text: 'through the rabbit was the'\n",
            "\n",
            "Seed text: 'in a moment' → Predicted next word: 'to'\n",
            "Seed text: 'in a moment' → Generated text: 'in a moment to the other'\n",
            "\n"
          ]
        }
      ],
      "source": [
        "\n",
        "seed_texts = [\n",
        "    \"alice was\",\n",
        "    \"the white rabbit\",\n",
        "    \"down the\",\n",
        "    \"she fell\",\n",
        "    \"what a\",\n",
        "    \"the mad hatter\",\n",
        "    \"into the\",\n",
        "    \"very curious\",\n",
        "    \"the queen of\",\n",
        "    \"it was a\",\n",
        "    \"suddenly she\",\n",
        "    \"the little door\",\n",
        "    \"how very\",\n",
        "    \"through the\",\n",
        "    \"in a moment\"\n",
        "]\n",
        "\n",
        "print(\"Testing Next Word Prediction:\")\n",
        "for seed_text in seed_texts:\n",
        "    next_word = predict_next_word(model, tokenizer, seed_text, max_sequence_len)\n",
        "    print(f\"Seed text: '{seed_text}' → Predicted next word: '{next_word}'\")\n",
        "    generated_text = generate_sequence(model, tokenizer, max_sequence_len, seed_text, 3)\n",
        "    print(f\"Seed text: '{seed_text}' → Generated text: '{generated_text}'\")\n",
        "    print()"
      ]
    },
    {
      "cell_type": "markdown",
      "metadata": {
        "id": "l5LFvlKeCBHF"
      },
      "source": [
        "# Sentiment Analysis Using the IMDB Dataset"
      ]
    },
    {
      "cell_type": "code",
      "execution_count": null,
      "metadata": {
        "id": "iELLDEdfVF5K"
      },
      "outputs": [],
      "source": [
        "import numpy as np\n",
        "import tensorflow as tf\n",
        "from tensorflow.keras.models import Sequential\n",
        "from tensorflow.keras.layers import Embedding, LSTM, Dense, Dropout, Bidirectional\n",
        "from tensorflow.keras.preprocessing.sequence import pad_sequences\n",
        "from tensorflow.keras.datasets import imdb\n",
        "from tensorflow.keras.callbacks import EarlyStopping\n",
        "import matplotlib.pyplot as plt\n",
        "import re"
      ]
    },
    {
      "cell_type": "markdown",
      "metadata": {
        "id": "1YLbcPMuCRFC"
      },
      "source": [
        "# Loading the IMDB dataset"
      ]
    },
    {
      "cell_type": "code",
      "execution_count": null,
      "metadata": {
        "id": "fEuw6R7MCyA4"
      },
      "outputs": [],
      "source": [
        "\n",
        "max_words = 10000\n",
        "max_len = 200\n",
        "\n",
        "\n",
        "(X_train, y_train), (X_test, y_test) = imdb.load_data(num_words=max_words)\n",
        "X_train = pad_sequences(X_train, maxlen=max_len, padding='pre')\n",
        "X_test = pad_sequences(X_test, maxlen=max_len, padding='pre')\n"
      ]
    },
    {
      "cell_type": "markdown",
      "metadata": {
        "id": "TJ1YZR9nCX6C"
      },
      "source": [
        "# Building the model"
      ]
    },
    {
      "cell_type": "code",
      "execution_count": null,
      "metadata": {
        "id": "QJfwpMMjC14I"
      },
      "outputs": [],
      "source": [
        "\n",
        "model = Sequential([\n",
        "    Embedding(max_words, 100, input_length=max_len),\n",
        "    Bidirectional(LSTM(128)),\n",
        "    Dropout(0.3),\n",
        "    Dense(64, activation='relu'),\n",
        "    Dropout(0.3),\n",
        "    Dense(1, activation='sigmoid')\n",
        "])"
      ]
    },
    {
      "cell_type": "markdown",
      "metadata": {
        "id": "6f_tWRsZC9Gc"
      },
      "source": [
        "# Compiling the model with early stopping"
      ]
    },
    {
      "cell_type": "code",
      "execution_count": null,
      "metadata": {
        "id": "ne0GTgqIDJDP"
      },
      "outputs": [],
      "source": [
        "\n",
        "model.compile(loss='binary_crossentropy', optimizer='adam', metrics=['accuracy'])\n",
        "\n",
        "\n",
        "early_stopping = EarlyStopping(monitor='val_loss', patience=3, restore_best_weights=True)\n"
      ]
    },
    {
      "cell_type": "markdown",
      "metadata": {
        "id": "0nP0Q3Q4DNNc"
      },
      "source": [
        "\n",
        "# Training the model"
      ]
    },
    {
      "cell_type": "code",
      "execution_count": null,
      "metadata": {
        "colab": {
          "base_uri": "https://localhost:8080/"
        },
        "id": "jkjZNdTWDPHl",
        "outputId": "f0a3cbfe-928f-43b2-de27-08849f999943"
      },
      "outputs": [
        {
          "name": "stdout",
          "output_type": "stream",
          "text": [
            "Epoch 1/15\n",
            "\u001b[1m625/625\u001b[0m \u001b[32m━━━━━━━━━━━━━━━━━━━━\u001b[0m\u001b[37m\u001b[0m \u001b[1m16s\u001b[0m 19ms/step - accuracy: 0.6716 - loss: 0.5652 - val_accuracy: 0.8514 - val_loss: 0.3476\n",
            "Epoch 2/15\n",
            "\u001b[1m625/625\u001b[0m \u001b[32m━━━━━━━━━━━━━━━━━━━━\u001b[0m\u001b[37m\u001b[0m \u001b[1m18s\u001b[0m 18ms/step - accuracy: 0.8869 - loss: 0.2881 - val_accuracy: 0.8626 - val_loss: 0.3216\n",
            "Epoch 3/15\n",
            "\u001b[1m625/625\u001b[0m \u001b[32m━━━━━━━━━━━━━━━━━━━━\u001b[0m\u001b[37m\u001b[0m \u001b[1m20s\u001b[0m 18ms/step - accuracy: 0.9263 - loss: 0.1967 - val_accuracy: 0.8692 - val_loss: 0.3328\n",
            "Epoch 4/15\n",
            "\u001b[1m625/625\u001b[0m \u001b[32m━━━━━━━━━━━━━━━━━━━━\u001b[0m\u001b[37m\u001b[0m \u001b[1m22s\u001b[0m 20ms/step - accuracy: 0.9496 - loss: 0.1400 - val_accuracy: 0.8638 - val_loss: 0.4145\n",
            "Epoch 5/15\n",
            "\u001b[1m625/625\u001b[0m \u001b[32m━━━━━━━━━━━━━━━━━━━━\u001b[0m\u001b[37m\u001b[0m \u001b[1m20s\u001b[0m 18ms/step - accuracy: 0.9701 - loss: 0.0903 - val_accuracy: 0.8576 - val_loss: 0.4426\n"
          ]
        }
      ],
      "source": [
        "history = model.fit(X_train, y_train, epochs=15, batch_size=32, validation_split=0.2,\n",
        "                    callbacks=[early_stopping], verbose=1)"
      ]
    },
    {
      "cell_type": "markdown",
      "metadata": {
        "id": "GdCRn3V-DRh_"
      },
      "source": [
        "# Ploting the accuracy and loss"
      ]
    },
    {
      "cell_type": "code",
      "execution_count": null,
      "metadata": {
        "colab": {
          "base_uri": "https://localhost:8080/",
          "height": 410
        },
        "id": "8zkycm6EDVnF",
        "outputId": "be0a0538-d59e-43b2-aecd-96f01d8a826a"
      },
      "outputs": [
        {
          "data": {
            "image/png": "[encoded data removed]",
            "text/plain": [
              "<Figure size 1200x400 with 2 Axes>"
            ]
          },
          "metadata": {},
          "output_type": "display_data"
        }
      ],
      "source": [
        "\n",
        "plt.figure(figsize=(12, 4))\n",
        "plt.subplot(1, 2, 1)\n",
        "plt.plot(history.history['accuracy'], label='Training Accuracy')\n",
        "plt.plot(history.history['val_accuracy'], label='Validation Accuracy')\n",
        "plt.title('Model Accuracy')\n",
        "plt.xlabel('Epoch')\n",
        "plt.ylabel('Accuracy')\n",
        "plt.legend()\n",
        "\n",
        "plt.subplot(1, 2, 2)\n",
        "plt.plot(history.history['loss'], label='Training Loss')\n",
        "plt.plot(history.history['val_loss'], label='Validation Loss')\n",
        "plt.title('Model Loss')\n",
        "plt.xlabel('Epoch')\n",
        "plt.ylabel('Loss')\n",
        "plt.legend()\n",
        "plt.show()"
      ]
    },
    {
      "cell_type": "markdown",
      "metadata": {
        "id": "TmZZi8xaDami"
      },
      "source": [
        "\n",
        "\n",
        "# Evaluating on test set"
      ]
    },
    {
      "cell_type": "code",
      "execution_count": null,
      "metadata": {
        "colab": {
          "base_uri": "https://localhost:8080/"
        },
        "id": "oLDofICZDZa7",
        "outputId": "00d87b37-60f7-4942-9d5d-c8df6cfb104a"
      },
      "outputs": [
        {
          "name": "stdout",
          "output_type": "stream",
          "text": [
            "Test Accuracy: 0.8620\n"
          ]
        }
      ],
      "source": [
        "\n",
        "test_loss, test_acc = model.evaluate(X_test, y_test, verbose=0)\n",
        "print(f\"Test Accuracy: {test_acc:.4f}\")"
      ]
    },
    {
      "cell_type": "markdown",
      "metadata": {
        "id": "JWth7ewLDefZ"
      },
      "source": [
        "# Testing on a few IMDB samples for comparison"
      ]
    },
    {
      "cell_type": "code",
      "execution_count": null,
      "metadata": {
        "colab": {
          "base_uri": "https://localhost:8080/"
        },
        "id": "v_AdavQxDnL6",
        "outputId": "30931d8f-18e1-462f-906d-65c0aaf623a8"
      },
      "outputs": [
        {
          "name": "stdout",
          "output_type": "stream",
          "text": [
            "\n",
            "Testing on IMDB Test Samples:\n",
            "Sample 1: True Label: 0, Predicted: Negative (Score: 0.2464)\n",
            "Sample 2: True Label: 1, Predicted: Positive (Score: 0.9922)\n",
            "Sample 3: True Label: 1, Predicted: Positive (Score: 0.8596)\n"
          ]
        }
      ],
      "source": [
        "\n",
        "print(\"\\nTesting on IMDB Test Samples:\")\n",
        "for i in range(3):\n",
        "    pred = model.predict(X_test[i:i+1], verbose=0)[0][0]\n",
        "    sentiment = \"Positive\" if pred >= 0.5 else \"Negative\"\n",
        "    print(f\"Sample {i+1}: True Label: {y_test[i]}, Predicted: {sentiment} (Score: {pred:.4f})\")\n",
        "\n",
        "\n",
        "def preprocess_text(text, word_index, max_words, max_len):\n",
        "\n",
        "    word_index = {word: idx + 3 for word, idx in word_index.items()}\n",
        "    word_index[\"<PAD>\"] = 0\n",
        "    word_index[\"<START>\"] = 1\n",
        "    word_index[\"<UNK>\"] = 2\n",
        "\n",
        "    reverse_word_index = {idx: word for word, idx in word_index.items()}\n",
        "\n",
        "\n",
        "    text = re.sub(r'[^\\w\\s]', '', text.lower())\n",
        "    tokens = text.split()\n",
        "    encoded = [min(word_index.get(word, 2), max_words - 1) for word in tokens]\n",
        "    padded = pad_sequences([encoded], maxlen=max_len, padding='pre')\n",
        "\n",
        "\n",
        "    decoded = [reverse_word_index.get(idx, \"<UNK>\") for idx in padded[0][-10:]]\n",
        "    print(f\"Original: '{text}' → Encoded (last 10): {padded[0][-10:]} → Decoded: {decoded}\")\n",
        "    return padded"
      ]
    },
    {
      "cell_type": "markdown",
      "metadata": {
        "id": "_AT_mmVBDok8"
      },
      "source": [
        "# Prediction function"
      ]
    },
    {
      "cell_type": "code",
      "execution_count": null,
      "metadata": {
        "id": "-flOvuuCYQsG"
      },
      "outputs": [],
      "source": [
        "\n",
        "def predict_sentiment(model, text, word_index, max_words, max_len):\n",
        "    processed_text = preprocess_text(text, word_index, max_words, max_len)\n",
        "    prediction = model.predict(processed_text, verbose=0)[0][0]\n",
        "    sentiment = \"Positive\" if prediction >= 0.5 else \"Negative\"\n",
        "    return sentiment, prediction\n",
        "\n"
      ]
    },
    {
      "cell_type": "markdown",
      "metadata": {
        "id": "r6dUh-xdDrmg"
      },
      "source": [
        "# Testing on custom reviews"
      ]
    },
    {
      "cell_type": "code",
      "execution_count": null,
      "metadata": {
        "colab": {
          "base_uri": "https://localhost:8080/"
        },
        "id": "KuOZSdrGZ8kd",
        "outputId": "57946677-0ac4-4f9d-f750-fd74490e8760"
      },
      "outputs": [
        {
          "name": "stdout",
          "output_type": "stream",
          "text": [
            "Downloading data from https://storage.googleapis.com/tensorflow/tf-keras-datasets/imdb_word_index.json\n",
            "\u001b[1m1641221/1641221\u001b[0m \u001b[32m━━━━━━━━━━━━━━━━━━━━\u001b[0m\u001b[37m\u001b[0m \u001b[1m1s\u001b[0m 1us/step\n",
            "\n",
            "Custom Predictions:\n",
            "Original: 'this movie was absolutely fantastic and thrilling' → Encoded (last 10): [   0    0    0   14   20   16  427  777    5 3017] → Decoded: ['<PAD>', '<PAD>', '<PAD>', 'this', 'movie', 'was', 'absolutely', 'fantastic', 'and', 'thrilling']\n",
            "Review: 'This movie was absolutely fantastic and thrilling'\n",
            "Predicted Sentiment: Positive (Score: 0.8113)\n",
            "\n",
            "Original: 'terrible acting and a boring plot' → Encoded (last 10): [  0   0   0   0 394 116   5   6 357 114] → Decoded: ['<PAD>', '<PAD>', '<PAD>', '<PAD>', 'terrible', 'acting', 'and', 'a', 'boring', 'plot']\n",
            "Review: 'Terrible acting and a boring plot'\n",
            "Predicted Sentiment: Negative (Score: 0.1145)\n",
            "\n",
            "Original: 'i loved every minute of this film' → Encoded (last 10): [  0   0   0  13 447 175 786   7  14  22] → Decoded: ['<PAD>', '<PAD>', '<PAD>', 'i', 'loved', 'every', 'minute', 'of', 'this', 'film']\n",
            "Review: 'I loved every minute of this film'\n",
            "Predicted Sentiment: Positive (Score: 0.8744)\n",
            "\n",
            "Original: 'the worst movie i have ever seen' → Encoded (last 10): [  0   0   0   4 249  20  13  28 126 110] → Decoded: ['<PAD>', '<PAD>', '<PAD>', 'the', 'worst', 'movie', 'i', 'have', 'ever', 'seen']\n",
            "Review: 'The worst movie I have ever seen'\n",
            "Predicted Sentiment: Negative (Score: 0.1443)\n",
            "\n",
            "Original: 'a breathtaking adventure that kept me hooked' → Encoded (last 10): [   0    0    0    6 2877 1154   15  828   72 3305] → Decoded: ['<PAD>', '<PAD>', '<PAD>', 'a', 'breathtaking', 'adventure', 'that', 'kept', 'me', 'hooked']\n",
            "Review: 'A breathtaking adventure that kept me hooked'\n",
            "Predicted Sentiment: Positive (Score: 0.9868)\n",
            "\n",
            "Original: 'poorly written and utterly forgettable' → Encoded (last 10): [   0    0    0    0    0  862  398    5 1254 2441] → Decoded: ['<PAD>', '<PAD>', '<PAD>', '<PAD>', '<PAD>', 'poorly', 'written', 'and', 'utterly', 'forgettable']\n",
            "Review: 'Poorly written and utterly forgettable'\n",
            "Predicted Sentiment: Negative (Score: 0.0500)\n",
            "\n",
            "Original: 'the cinematography was gorgeous and the story touching' → Encoded (last 10): [   0    0    4  627   16 1490    5    4   65 1301] → Decoded: ['<PAD>', '<PAD>', 'the', 'cinematography', 'was', 'gorgeous', 'and', 'the', 'story', 'touching']\n",
            "Review: 'The cinematography was gorgeous and the story touching'\n",
            "Predicted Sentiment: Positive (Score: 0.9641)\n",
            "\n",
            "Original: 'a total disaster with no redeeming qualities' → Encoded (last 10): [   0    0    0    6  964 1690   19   57 1653 2432] → Decoded: ['<PAD>', '<PAD>', '<PAD>', 'a', 'total', 'disaster', 'with', 'no', 'redeeming', 'qualities']\n",
            "Review: 'A total disaster with no redeeming qualities'\n",
            "Predicted Sentiment: Negative (Score: 0.1209)\n",
            "\n",
            "Original: 'such a delightful experience from beginning to end' → Encoded (last 10): [   0    0  141    6 1917  585   39  454    8  130] → Decoded: ['<PAD>', '<PAD>', 'such', 'a', 'delightful', 'experience', 'from', 'beginning', 'to', 'end']\n",
            "Review: 'Such a delightful experience from beginning to end'\n",
            "Predicted Sentiment: Positive (Score: 0.9844)\n",
            "\n",
            "Original: 'confusing plot and terrible performances' → Encoded (last 10): [   0    0    0    0    0 1499  114    5  394  354] → Decoded: ['<PAD>', '<PAD>', '<PAD>', '<PAD>', '<PAD>', 'confusing', 'plot', 'and', 'terrible', 'performances']\n",
            "Review: 'Confusing plot and terrible performances'\n",
            "Predicted Sentiment: Negative (Score: 0.3153)\n",
            "\n"
          ]
        }
      ],
      "source": [
        "\n",
        "word_index = imdb.get_word_index()\n",
        "custom_reviews = [\n",
        "    \"This movie was absolutely fantastic and thrilling\",\n",
        "    \"Terrible acting and a boring plot\",\n",
        "    \"I loved every minute of this film\",\n",
        "    \"The worst movie I have ever seen\",\n",
        "\n",
        "    \"A breathtaking adventure that kept me hooked\",\n",
        "    \"Poorly written and utterly forgettable\",\n",
        "    \"The cinematography was gorgeous and the story touching\",\n",
        "    \"A total disaster with no redeeming qualities\",\n",
        "    \"Such a delightful experience from beginning to end\",\n",
        "    \"Confusing plot and terrible performances\"\n",
        "]\n",
        "print(\"\\nCustom Predictions:\")\n",
        "for review in custom_reviews:\n",
        "    sentiment, score = predict_sentiment(model, review, word_index, max_words, max_len)\n",
        "    print(f\"Review: '{review}'\")\n",
        "    print(f\"Predicted Sentiment: {sentiment} (Score: {score:.4f})\\n\")"
      ]
    },
    {
      "cell_type": "markdown",
      "metadata": {
        "id": "KfER3Pu4plY7"
      },
      "source": [
        "# transformers and pre-trained models"
      ]
    },
    {
      "cell_type": "code",
      "execution_count": null,
      "metadata": {
        "id": "_hliUapDplY7",
        "outputId": "54d4fa11-e7c2-403e-9ab3-bf2779b7dc84"
      },
      "outputs": [
        {
          "name": "stderr",
          "output_type": "stream",
          "text": [
            "Device set to use mps:0\n"
          ]
        },
        {
          "name": "stdout",
          "output_type": "stream",
          "text": [
            "Text: I love this product => Sentiment: POSITIVE\n",
            "Text: This is terrible => Sentiment: NEGATIVE\n",
            "Text: I am so happy => Sentiment: POSITIVE\n",
            "Text: I hate this => Sentiment: NEGATIVE\n"
          ]
        }
      ],
      "source": [
        "#pip install transformers\n",
        "from transformers import pipeline\n",
        "\n",
        "# Load sentiment analysis pipeline\n",
        "classifier = pipeline('sentiment-analysis',model='distilbert/distilbert-base-uncased-finetuned-sst-2-english')\n",
        "\n",
        "# Sample data\n",
        "texts = [\"I love this product\", \"This is terrible\", \"I am so happy\", \"I hate this\"]\n",
        "\n",
        "# Get predictions\n",
        "for text in texts:\n",
        "    result = classifier(text)\n",
        "    print(f\"Text: {text} => Sentiment: {result[0]['label']}\")\n"
      ]
    },
    {
      "cell_type": "markdown",
      "metadata": {
        "id": "FIcCVgq6plY7"
      },
      "source": [
        "### T5 (Text-to-Text Transfer Transformer)"
      ]
    },
    {
      "cell_type": "code",
      "execution_count": null,
      "metadata": {
        "id": "xWfQOmwhplY7",
        "outputId": "f658c986-fbe2-4bb5-c7c8-0fed3ca86242"
      },
      "outputs": [
        {
          "name": "stdout",
          "output_type": "stream",
          "text": [
            "Translation: Ich liebe dieses Produkt, das ich nicht glaube, dass es so einfach zu benutzen ist.\n"
          ]
        }
      ],
      "source": [
        "from transformers import T5ForConditionalGeneration, T5Tokenizer\n",
        "\n",
        "# Load tokenizer & pre-trained T5 model\n",
        "model_name = \"t5-small\"\n",
        "model = T5ForConditionalGeneration.from_pretrained(model_name)\n",
        "tokenizer = T5Tokenizer.from_pretrained(model_name)\n",
        "\n",
        "# Sample text\n",
        "text = \"Translate English to Spanish: I love this product. I can't believe it is so easy to use it.\"\n",
        "\n",
        "# Tokenize input & generate prediction\n",
        "inputs = tokenizer.encode(text, return_tensors=\"pt\")\n",
        "outputs = model.generate(inputs, max_length=50)\n",
        "\n",
        "# Decode & print prediction\n",
        "translation = tokenizer.decode(outputs[0], skip_special_tokens=True)\n",
        "print(f\"Translation: {translation}\")\n"
      ]
    },
    {
      "cell_type": "markdown",
      "source": [
        "**References:**\n",
        "\n",
        "https://www.geeksforgeeks.org/what-is-sentiment-analysis/\n",
        "\n",
        "https://www.analyticsvidhya.com/blog/2022/07/sentiment-analysis-using-python/\n",
        "\n",
        "https://www.geeksforgeeks.org/next-word-prediction-with-deep-learning-in-nlp/\n",
        "\n",
        "https://www.analyticsvidhya.com/blog/2023/07next-word-prediction-with-bidirectional-lstm/\n",
        "\n",
        "https://www.analyticsvidhya.com/blog/2021/08/predict-the-next-word-of-your-text-using-long-short-term-memory-lstm/\n",
        "\n",
        "https://www.analyticsvidhya.com/blog/2021/03/introduction-to-long-short-term-memory-lstm/\n",
        "\n",
        "https://github.com/aswintechguy/Data-Science-Concepts/blob/main/NLP/Natural%20Language%20Processing(NLP)%20Concepts%20-%20Hackers%20Realm.ipynb\n",
        "\n",
        "https://huggingface.co/docs/transformers/en/index\n",
        "\n",
        "https://huggingface.co/google-t5/t5-small\n",
        "\n",
        "https://github.com/google-research/text-to-text-transfer-transformer\n",
        "\n",
        "https://www.geeksforgeeks.org/text-preprocessing-for-nlp-tasks/\n",
        "\n",
        "\n"
      ],
      "metadata": {
        "id": "IhCYeqfkSugZ"
      }
    }
  ],
  "metadata": {
    "accelerator": "GPU",
    "colab": {
      "gpuType": "T4",
      "provenance": []
    },
    "kernelspec": {
      "display_name": "base",
      "language": "python",
      "name": "python3"
    },
    "language_info": {
      "codemirror_mode": {
        "name": "ipython",
        "version": 3
      },
      "file_extension": ".py",
      "mimetype": "text/x-python",
      "name": "python",
      "nbconvert_exporter": "python",
      "pygments_lexer": "ipython3",
      "version": "3.12.2"
    }
  },
  "nbformat": 4,
  "nbformat_minor": 0
}